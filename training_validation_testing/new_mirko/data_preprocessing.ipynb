{
 "cells": [
  {
   "cell_type": "markdown",
   "metadata": {},
   "source": [
    "# Data Pre-Processing\n",
    "* Training set : 60%\n",
    "* Validation set : 20%\n",
    "* Testing set : 20%\n",
    "\n",
    "**stratified sampling procedure** : because the proportion among classes are very different and must be preserved in order to avoid biased predictions."
   ]
  },
  {
   "cell_type": "code",
   "execution_count": 1,
   "metadata": {},
   "outputs": [],
   "source": [
    "import os\n",
    "from shutil import copyfile\n",
    "import random\n",
    "import numpy as np\n",
    "from PIL import Image\n",
    "import matplotlib.pyplot as plt"
   ]
  },
  {
   "cell_type": "markdown",
   "metadata": {},
   "source": [
    "Parameters setting:"
   ]
  },
  {
   "cell_type": "code",
   "execution_count": 2,
   "metadata": {},
   "outputs": [],
   "source": [
    "# directories\n",
    "dataset_dir = 'full_dataset'\n",
    "sub_dir_s = ['training','validation']\n",
    "\n",
    "# splitting proportions\n",
    "train = .8 # 60%\n",
    "val = .2 # 20%\n",
    "#test = .2 # 20%\n",
    "\n",
    "# labels name\n",
    "labels = ['Apple','Blueberry','Cherry','Corn','Grape','Orange','Peach','Pepper','Potato','Raspberry','Soybean','Squash','Strawberry','Tomato']"
   ]
  },
  {
   "cell_type": "markdown",
   "metadata": {},
   "source": [
    "Directories organization:"
   ]
  },
  {
   "cell_type": "code",
   "execution_count": 3,
   "metadata": {},
   "outputs": [
    {
     "name": "stdout",
     "output_type": "stream",
     "text": [
      "Successfully created the directory /Users/mirkousuelli/OneDrive - Politecnico di Milano/GitHub/an2dl-homeworks/training_validation_testing/mirko/training \n",
      "Successfully created the directory /Users/mirkousuelli/OneDrive - Politecnico di Milano/GitHub/an2dl-homeworks/training_validation_testing/mirko/training/Apple \n",
      "Successfully created the directory /Users/mirkousuelli/OneDrive - Politecnico di Milano/GitHub/an2dl-homeworks/training_validation_testing/mirko/training/Blueberry \n",
      "Successfully created the directory /Users/mirkousuelli/OneDrive - Politecnico di Milano/GitHub/an2dl-homeworks/training_validation_testing/mirko/training/Cherry \n",
      "Successfully created the directory /Users/mirkousuelli/OneDrive - Politecnico di Milano/GitHub/an2dl-homeworks/training_validation_testing/mirko/training/Corn \n",
      "Successfully created the directory /Users/mirkousuelli/OneDrive - Politecnico di Milano/GitHub/an2dl-homeworks/training_validation_testing/mirko/training/Grape \n",
      "Successfully created the directory /Users/mirkousuelli/OneDrive - Politecnico di Milano/GitHub/an2dl-homeworks/training_validation_testing/mirko/training/Orange \n",
      "Successfully created the directory /Users/mirkousuelli/OneDrive - Politecnico di Milano/GitHub/an2dl-homeworks/training_validation_testing/mirko/training/Peach \n",
      "Successfully created the directory /Users/mirkousuelli/OneDrive - Politecnico di Milano/GitHub/an2dl-homeworks/training_validation_testing/mirko/training/Pepper \n",
      "Successfully created the directory /Users/mirkousuelli/OneDrive - Politecnico di Milano/GitHub/an2dl-homeworks/training_validation_testing/mirko/training/Potato \n",
      "Successfully created the directory /Users/mirkousuelli/OneDrive - Politecnico di Milano/GitHub/an2dl-homeworks/training_validation_testing/mirko/training/Raspberry \n",
      "Successfully created the directory /Users/mirkousuelli/OneDrive - Politecnico di Milano/GitHub/an2dl-homeworks/training_validation_testing/mirko/training/Soybean \n",
      "Successfully created the directory /Users/mirkousuelli/OneDrive - Politecnico di Milano/GitHub/an2dl-homeworks/training_validation_testing/mirko/training/Squash \n",
      "Successfully created the directory /Users/mirkousuelli/OneDrive - Politecnico di Milano/GitHub/an2dl-homeworks/training_validation_testing/mirko/training/Strawberry \n",
      "Successfully created the directory /Users/mirkousuelli/OneDrive - Politecnico di Milano/GitHub/an2dl-homeworks/training_validation_testing/mirko/training/Tomato \n",
      "Successfully created the directory /Users/mirkousuelli/OneDrive - Politecnico di Milano/GitHub/an2dl-homeworks/training_validation_testing/mirko/validation \n",
      "Successfully created the directory /Users/mirkousuelli/OneDrive - Politecnico di Milano/GitHub/an2dl-homeworks/training_validation_testing/mirko/validation/Apple \n",
      "Successfully created the directory /Users/mirkousuelli/OneDrive - Politecnico di Milano/GitHub/an2dl-homeworks/training_validation_testing/mirko/validation/Blueberry \n",
      "Successfully created the directory /Users/mirkousuelli/OneDrive - Politecnico di Milano/GitHub/an2dl-homeworks/training_validation_testing/mirko/validation/Cherry \n",
      "Successfully created the directory /Users/mirkousuelli/OneDrive - Politecnico di Milano/GitHub/an2dl-homeworks/training_validation_testing/mirko/validation/Corn \n",
      "Successfully created the directory /Users/mirkousuelli/OneDrive - Politecnico di Milano/GitHub/an2dl-homeworks/training_validation_testing/mirko/validation/Grape \n",
      "Successfully created the directory /Users/mirkousuelli/OneDrive - Politecnico di Milano/GitHub/an2dl-homeworks/training_validation_testing/mirko/validation/Orange \n",
      "Successfully created the directory /Users/mirkousuelli/OneDrive - Politecnico di Milano/GitHub/an2dl-homeworks/training_validation_testing/mirko/validation/Peach \n",
      "Successfully created the directory /Users/mirkousuelli/OneDrive - Politecnico di Milano/GitHub/an2dl-homeworks/training_validation_testing/mirko/validation/Pepper \n",
      "Successfully created the directory /Users/mirkousuelli/OneDrive - Politecnico di Milano/GitHub/an2dl-homeworks/training_validation_testing/mirko/validation/Potato \n",
      "Successfully created the directory /Users/mirkousuelli/OneDrive - Politecnico di Milano/GitHub/an2dl-homeworks/training_validation_testing/mirko/validation/Raspberry \n",
      "Successfully created the directory /Users/mirkousuelli/OneDrive - Politecnico di Milano/GitHub/an2dl-homeworks/training_validation_testing/mirko/validation/Soybean \n",
      "Successfully created the directory /Users/mirkousuelli/OneDrive - Politecnico di Milano/GitHub/an2dl-homeworks/training_validation_testing/mirko/validation/Squash \n",
      "Successfully created the directory /Users/mirkousuelli/OneDrive - Politecnico di Milano/GitHub/an2dl-homeworks/training_validation_testing/mirko/validation/Strawberry \n",
      "Successfully created the directory /Users/mirkousuelli/OneDrive - Politecnico di Milano/GitHub/an2dl-homeworks/training_validation_testing/mirko/validation/Tomato \n"
     ]
    }
   ],
   "source": [
    "# getting current working directory\n",
    "path = os.getcwd()\n",
    "\n",
    "# operative directories (training, validation, testing)\n",
    "for sub in sub_dir_s:\n",
    "    # full path\n",
    "    name = path + '/' + sub\n",
    "\n",
    "    # mkdir\n",
    "    try:\n",
    "        os.mkdir(name)\n",
    "    except OSError:\n",
    "        print (\"Creation of the directory %s failed\" % name)\n",
    "    else:\n",
    "        print (\"Successfully created the directory %s \" % name)   \n",
    "\n",
    "    # for each label (leaf categories)\n",
    "    for label in labels:\n",
    "        # class directory\n",
    "        class_name = name + '/' + label\n",
    "\n",
    "        # mkdir\n",
    "        try:\n",
    "            os.mkdir(class_name)\n",
    "        except OSError:\n",
    "            print (\"Creation of the directory %s failed\" % class_name)\n",
    "        else:\n",
    "            print (\"Successfully created the directory %s \" % class_name)"
   ]
  },
  {
   "cell_type": "markdown",
   "metadata": {},
   "source": [
    "Splitting procedure:"
   ]
  },
  {
   "cell_type": "code",
   "execution_count": 4,
   "metadata": {},
   "outputs": [],
   "source": [
    "# stratified sampling procedure\n",
    "def stratified_sampling(labels, dataset_path, train_p, val_p):\n",
    "    # params:\n",
    "    # - labels : classes' label to be considered\n",
    "    # - train_p : train samples proportion\n",
    "    # - val_p : validation samples proportion\n",
    "    # - test_p : test samples proportion\n",
    "\n",
    "    # return lists\n",
    "    train_set = []\n",
    "    val_set = []\n",
    "    #test_set = []\n",
    "\n",
    "    # for each class\n",
    "    for i in range(len(labels)):\n",
    "        if i < len(labels):\n",
    "            # selecting all the images of the i-th class\n",
    "            class_imgs = next(os.walk('../../{}/{}/'.format(dataset_path, labels[i])))[2]\n",
    "\n",
    "            # lenght\n",
    "            class_len = len(class_imgs)\n",
    "\n",
    "            # shuffling\n",
    "            random.shuffle(class_imgs)\n",
    "\n",
    "            # splitting\n",
    "            train = class_imgs[:int(train_p*class_len)]\n",
    "            val = class_imgs[int(train_p*class_len):]\n",
    "            #test = class_imgs[int((train_p+val_p)*class_len):]\n",
    "\n",
    "            # append lists to the corresponding index\n",
    "            train_set.append(train)\n",
    "            val_set.append(val)\n",
    "            #test_set.append(test)\n",
    "    \n",
    "    return train_set, val_set#, test_set"
   ]
  },
  {
   "cell_type": "markdown",
   "metadata": {},
   "source": [
    "Directory populations setting:"
   ]
  },
  {
   "cell_type": "code",
   "execution_count": 5,
   "metadata": {},
   "outputs": [],
   "source": [
    "# stratified sampling\n",
    "train_set, val_set = stratified_sampling(labels, dataset_dir, train_p=train, val_p=val)\n",
    "\n",
    "# getting current working directory\n",
    "path = os.getcwd()\n",
    "\n",
    "# operative directories (training, validation, testing)\n",
    "for sub in sub_dir_s:\n",
    "    # taking the correct list\n",
    "    if (sub == 'training'):\n",
    "        list = train_set\n",
    "    elif (sub == 'validation'):\n",
    "        list = val_set\n",
    "    #else:\n",
    "        #list = test_set\n",
    "\n",
    "    # for each class target\n",
    "    for i in labels:\n",
    "        # source path taking the full dataset from the root\n",
    "        src_path = '../../' + dataset_dir + '/' + i + '/'\n",
    "\n",
    "        # destination path taking the target sub directory          \n",
    "        dst_path = path + '/' + sub + '/' + i + '/'\n",
    "\n",
    "        # copying each image to the new directory\n",
    "        for img in list[labels.index(i)]:\n",
    "            copyfile(src_path + img, dst_path + img)"
   ]
  },
  {
   "cell_type": "markdown",
   "metadata": {},
   "source": [
    "Checking numbers:"
   ]
  },
  {
   "cell_type": "code",
   "execution_count": 6,
   "metadata": {},
   "outputs": [],
   "source": [
    "def count_samples_classes(labels, dir_path):\n",
    "    # counters list\n",
    "    counters = []\n",
    "\n",
    "    # for each class\n",
    "    for i in range(len(labels)):\n",
    "        # selecting all the images of the i-th class\n",
    "        class_samples = next(os.walk('{}/{}/'.format(dir_path, labels[i])))[2]\n",
    "\n",
    "        # storing the counter bound with the class target\n",
    "        counters.append((labels[i], len(class_samples)))\n",
    "    \n",
    "    return counters"
   ]
  },
  {
   "cell_type": "code",
   "execution_count": 7,
   "metadata": {},
   "outputs": [
    {
     "name": "stdout",
     "output_type": "stream",
     "text": [
      "Full dataset:\n",
      "[('Apple', 988), ('Blueberry', 467), ('Cherry', 583), ('Corn', 1206), ('Grape', 1458), ('Orange', 1748), ('Peach', 977), ('Pepper', 765), ('Potato', 716), ('Raspberry', 264), ('Soybean', 1616), ('Squash', 574), ('Strawberry', 673), ('Tomato', 5693)]\n",
      "\n",
      "Training set:\n",
      "[('Apple', 790), ('Blueberry', 373), ('Cherry', 466), ('Corn', 964), ('Grape', 1166), ('Orange', 1398), ('Peach', 781), ('Pepper', 612), ('Potato', 572), ('Raspberry', 211), ('Soybean', 1292), ('Squash', 459), ('Strawberry', 538), ('Tomato', 4554)]\n",
      "\n",
      "Validation set:\n",
      "[('Apple', 198), ('Blueberry', 94), ('Cherry', 117), ('Corn', 242), ('Grape', 292), ('Orange', 350), ('Peach', 196), ('Pepper', 153), ('Potato', 144), ('Raspberry', 53), ('Soybean', 324), ('Squash', 115), ('Strawberry', 135), ('Tomato', 1139)]\n"
     ]
    }
   ],
   "source": [
    "# full dataset\n",
    "print('Full dataset:')\n",
    "print(count_samples_classes(labels, '../../' + dataset_dir))\n",
    "\n",
    "# current path\n",
    "path = os.getcwd() + '/'\n",
    "\n",
    "# training set\n",
    "print('\\nTraining set:')\n",
    "print(count_samples_classes(labels, path + 'training'))\n",
    "\n",
    "# validation set\n",
    "print('\\nValidation set:')\n",
    "print(count_samples_classes(labels, path + 'validation'))\n",
    "\n",
    "# testing set\n",
    "#print('\\nTesting set:')\n",
    "#print(count_samples_classes(labels, path + 'testing'))"
   ]
  }
 ],
 "metadata": {
  "interpreter": {
   "hash": "d5d63078528779411384a0109f22a688b37078cd4f03a8068939f652224ae60f"
  },
  "kernelspec": {
   "display_name": "Python 3.8.8 64-bit ('base': conda)",
   "language": "python",
   "name": "python3"
  },
  "language_info": {
   "codemirror_mode": {
    "name": "ipython",
    "version": 3
   },
   "file_extension": ".py",
   "mimetype": "text/x-python",
   "name": "python",
   "nbconvert_exporter": "python",
   "pygments_lexer": "ipython3",
   "version": "3.8.12"
  },
  "orig_nbformat": 4
 },
 "nbformat": 4,
 "nbformat_minor": 2
}
