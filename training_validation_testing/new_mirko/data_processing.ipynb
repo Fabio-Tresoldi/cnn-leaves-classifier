{
 "cells": [
  {
   "cell_type": "markdown",
   "metadata": {},
   "source": [
    "# Data Processing\n",
    "We need to bind each image with its label class."
   ]
  },
  {
   "cell_type": "code",
   "execution_count": 34,
   "metadata": {},
   "outputs": [],
   "source": [
    "import os\n",
    "import random\n",
    "from PIL import Image"
   ]
  },
  {
   "cell_type": "code",
   "execution_count": 36,
   "metadata": {},
   "outputs": [],
   "source": [
    "def load_data(path, onehot):\n",
    "    # major lists\n",
    "    samples = [] # images\n",
    "    targets = [] # targets\n",
    "    labels = sorted([label[0].replace(path+'/', '') for label in os.walk(path)][1:]) # directory labels\n",
    "\n",
    "    # for each label class\n",
    "    for i in range(len(labels)):\n",
    "        # get all the images within its directory\n",
    "        imgs = next(os.walk('{}/{}/'.format(path, labels[i])))[2]\n",
    "\n",
    "        # for each image convert it into RGB format and append the target class (numerical or one hot encoding)\n",
    "        for j in range(len(imgs)):\n",
    "            samples.append(Image.open('{}/{}/{}'.format(path, labels[i], imgs[j])).convert('RGB'))\n",
    "            targets.append(i if not onehot else [1. if x == i else 0. for x in range(len(labels))])\n",
    "\n",
    "    # return the tuple not shuffled\n",
    "    return samples, targets"
   ]
  },
  {
   "cell_type": "markdown",
   "metadata": {},
   "source": [
    "## One-Hot Encoding"
   ]
  },
  {
   "cell_type": "code",
   "execution_count": 37,
   "metadata": {},
   "outputs": [],
   "source": [
    "# training\n",
    "train_samples, train_targets = load_data('training', onehot=True)\n",
    "\n",
    "# validation\n",
    "val_samples, val_targets = load_data('validation', onehot=True)\n",
    "\n",
    "# testing\n",
    "test_samples, test_targets = load_data('testing', onehot=True)"
   ]
  },
  {
   "cell_type": "markdown",
   "metadata": {},
   "source": [
    "## Numerical Encoding"
   ]
  },
  {
   "cell_type": "code",
   "execution_count": 39,
   "metadata": {},
   "outputs": [],
   "source": [
    "# training\n",
    "train_samples, train_targets = load_data('training', onehot=False)\n",
    "\n",
    "# validation\n",
    "val_samples, val_targets = load_data('validation', onehot=False)\n",
    "\n",
    "# testing\n",
    "test_samples, test_targets = load_data('testing', onehot=False)"
   ]
  },
  {
   "cell_type": "markdown",
   "metadata": {},
   "source": [
    "## Shuffling"
   ]
  },
  {
   "cell_type": "code",
   "execution_count": 41,
   "metadata": {},
   "outputs": [],
   "source": [
    "def data_shuffle(samples, targets):\n",
    "    # binding samples with targets\n",
    "    bind = list(zip(samples, targets))\n",
    "\n",
    "    # shuffling together in the same way\n",
    "    random.shuffle(bind)\n",
    "\n",
    "    # separating them\n",
    "    samples, targets = zip(*bind)\n",
    "\n",
    "    return samples, targets"
   ]
  },
  {
   "cell_type": "code",
   "execution_count": null,
   "metadata": {},
   "outputs": [],
   "source": [
    "test_samples, test_targets = data_shuffle(test_samples, test_targets)"
   ]
  }
 ],
 "metadata": {
  "interpreter": {
   "hash": "d5d63078528779411384a0109f22a688b37078cd4f03a8068939f652224ae60f"
  },
  "kernelspec": {
   "display_name": "Python 3.8.8 64-bit ('base': conda)",
   "language": "python",
   "name": "python3"
  },
  "language_info": {
   "codemirror_mode": {
    "name": "ipython",
    "version": 3
   },
   "file_extension": ".py",
   "mimetype": "text/x-python",
   "name": "python",
   "nbconvert_exporter": "python",
   "pygments_lexer": "ipython3",
   "version": "3.8.8"
  },
  "orig_nbformat": 4
 },
 "nbformat": 4,
 "nbformat_minor": 2
}
