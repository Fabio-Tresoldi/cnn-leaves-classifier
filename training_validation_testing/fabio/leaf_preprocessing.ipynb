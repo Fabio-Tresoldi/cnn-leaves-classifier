{
  "nbformat": 4,
  "nbformat_minor": 0,
  "metadata": {
    "colab": {
      "name": "Untitled",
      "provenance": [],
      "collapsed_sections": []
    },
    "kernelspec": {
      "name": "python3",
      "display_name": "Python 3"
    },
    "language_info": {
      "name": "python"
    }
  },
  "cells": [
    {
      "cell_type": "markdown",
      "metadata": {
        "id": "a13N2_5HyR7z"
      },
      "source": [
        "### Data Preprocessing\n",
        "\n",
        "* GrayScale Image\n",
        "* Binary Image\n",
        "* Image after erosion/dilation\n",
        "* Edge detection\n",
        "\n",
        "![image](https://www.researchgate.net/profile/I-Hassoon/publication/328569892/figure/fig3/AS:740669874266114@1553600867406/Preprocessing-for-input-leaf-image.jpg)"
      ]
    },
    {
      "cell_type": "code",
      "metadata": {
        "id": "QZ0XV8CByLs4"
      },
      "source": [
        "from PIL import Image, ImageFilter, ImageEnhance\n",
        "\n",
        "def transformation(imageArray):\n",
        "  image = Image.fromarray(np.reshape(imageArray, (256,256)).astype(np.uint8), 'L') # GrayScale\n",
        "  image = image.convert('1') # Binary\n",
        "\n",
        "  image = image.filter(ImageFilter.MaxFilter(3)) # Erosion\n",
        "  image = image.filter(ImageFilter.MinFilter(3)) # Dilation\n",
        "\n",
        "  image = image.filter(ImageFilter.EDGE_ENHANCE) # Edge Detection\n",
        "  image = image.filter(ImageFilter.FIND_EDGES)\n",
        "\n",
        "  imageArray = np.array(image, dtype=np.bool)\n",
        "\n",
        "  return np.reshape(imageArray, (256, 256, 1))\n",
        "\n",
        "\n",
        "train_data_gen = ImageDataGenerator(#rescale=1/255.,\n",
        "                                    preprocessing_function=transformation)\n",
        "\n",
        "train_gen = train_data_gen.flow_from_directory(directory=training_dir,\n",
        "                                               target_size=(256,256),\n",
        "                                               color_mode='grayscale',\n",
        "                                               classes=None, # can be set to labels\n",
        "                                               class_mode='categorical',\n",
        "                                               batch_size=8,\n",
        "                                               shuffle=True,\n",
        "                                               seed=seed)\n",
        "for i in range(8):\n",
        "  image = next(train_gen)[0][i]\n",
        "\n",
        "  # Plot an example image\n",
        "  plt.imshow(image[:,:,0], cmap='gray', interpolation='nearest')\n",
        "  plt.show()"
      ],
      "execution_count": null,
      "outputs": []
    }
  ]
}