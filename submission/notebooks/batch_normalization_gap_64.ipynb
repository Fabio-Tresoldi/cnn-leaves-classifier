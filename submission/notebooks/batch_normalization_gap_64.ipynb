{
  "nbformat": 4,
  "nbformat_minor": 0,
  "metadata": {
    "colab": {
      "name": "cnn.ipynb",
      "provenance": [],
      "collapsed_sections": []
    },
    "kernelspec": {
      "name": "python3",
      "display_name": "Python 3"
    },
    "language_info": {
      "name": "python"
    }
  },
  "cells": [
    {
      "cell_type": "code",
      "metadata": {
        "id": "5-35gnQG8yoS",
        "colab": {
          "base_uri": "https://localhost:8080/"
        },
        "outputId": "791b5c76-434b-4474-e2ee-a94af75e8d8f"
      },
      "source": [
        "from google.colab import drive\n",
        "drive.mount('/gdrive')"
      ],
      "execution_count": 72,
      "outputs": [
        {
          "output_type": "stream",
          "name": "stdout",
          "text": [
            "Drive already mounted at /gdrive; to attempt to forcibly remount, call drive.mount(\"/gdrive\", force_remount=True).\n"
          ]
        }
      ]
    },
    {
      "cell_type": "code",
      "metadata": {
        "id": "8-rJySmy835Y",
        "colab": {
          "base_uri": "https://localhost:8080/"
        },
        "outputId": "0e516015-2241-4bea-c403-fb3379decb69"
      },
      "source": [
        "%cd /gdrive/MyDrive/AN2DL/Homework1/"
      ],
      "execution_count": 73,
      "outputs": [
        {
          "output_type": "stream",
          "name": "stdout",
          "text": [
            "/gdrive/MyDrive/AN2DL/Homework1\n"
          ]
        }
      ]
    },
    {
      "cell_type": "markdown",
      "metadata": {
        "id": "7FUSNH_5Cmk-"
      },
      "source": [
        "### Import Libraries"
      ]
    },
    {
      "cell_type": "code",
      "metadata": {
        "id": "Kad8mvnp85ML",
        "colab": {
          "base_uri": "https://localhost:8080/"
        },
        "outputId": "f719999b-f7b2-4558-d428-5c73b729c366"
      },
      "source": [
        "import os\n",
        "import numpy as np\n",
        "import tensorflow as tf\n",
        "import random\n",
        "from PIL import Image\n",
        "import matplotlib.pyplot as plt\n",
        "\n",
        "tfk = tf.keras\n",
        "tfkl = tf.keras.layers\n",
        "print(tf.__version__)"
      ],
      "execution_count": 74,
      "outputs": [
        {
          "output_type": "stream",
          "name": "stdout",
          "text": [
            "2.7.0\n"
          ]
        }
      ]
    },
    {
      "cell_type": "code",
      "metadata": {
        "colab": {
          "base_uri": "https://localhost:8080/"
        },
        "id": "adZDHtg0B-io",
        "outputId": "ac5e9764-97a2-4792-b0c5-926b572a4c8c"
      },
      "source": [
        "# Download and import visualkeras library\n",
        "!pip install visualkeras\n",
        "import visualkeras"
      ],
      "execution_count": 75,
      "outputs": [
        {
          "output_type": "stream",
          "name": "stdout",
          "text": [
            "Requirement already satisfied: visualkeras in /usr/local/lib/python3.7/dist-packages (0.0.2)\n",
            "Requirement already satisfied: aggdraw>=1.3.11 in /usr/local/lib/python3.7/dist-packages (from visualkeras) (1.3.12)\n",
            "Requirement already satisfied: numpy>=1.18.1 in /usr/local/lib/python3.7/dist-packages (from visualkeras) (1.19.5)\n",
            "Requirement already satisfied: pillow>=6.2.0 in /usr/local/lib/python3.7/dist-packages (from visualkeras) (7.1.2)\n"
          ]
        }
      ]
    },
    {
      "cell_type": "markdown",
      "metadata": {
        "id": "UXVTscKNDD6E"
      },
      "source": [
        "### Set seed for reproducibility"
      ]
    },
    {
      "cell_type": "code",
      "metadata": {
        "id": "fC8b_ryv_5B2"
      },
      "source": [
        "# Random seed for reproducibility\n",
        "seed = 42\n",
        "\n",
        "random.seed(seed)\n",
        "os.environ['PYTHONHASHSEED'] = str(seed)\n",
        "np.random.seed(seed)\n",
        "tf.random.set_seed(seed)\n",
        "tf.compat.v1.set_random_seed(seed)"
      ],
      "execution_count": 76,
      "outputs": []
    },
    {
      "cell_type": "markdown",
      "metadata": {
        "id": "1SzGSv5XDQdJ"
      },
      "source": [
        "### Leaf Dataset"
      ]
    },
    {
      "cell_type": "code",
      "metadata": {
        "id": "voCaRwS49Mol"
      },
      "source": [
        "full_dataset_dir = 'full_dataset'\n",
        "#!unzip dataset.zip\n",
        "#os.rename('training',full_dataset_dir)"
      ],
      "execution_count": 77,
      "outputs": []
    },
    {
      "cell_type": "code",
      "metadata": {
        "id": "k6tofdD7RNPd"
      },
      "source": [
        "labels = ['Apple','Blueberry','Cherry','Corn','Grape','Orange','Peach','Pepper','Potato','Raspberry','Soybean','Squash','Strawberry','Tomato']"
      ],
      "execution_count": 78,
      "outputs": []
    },
    {
      "cell_type": "markdown",
      "metadata": {
        "id": "qE0OYjwDUHeO"
      },
      "source": [
        "### Data Preprocessing\n",
        "\n",
        "Done in the other notebook"
      ]
    },
    {
      "cell_type": "markdown",
      "metadata": {
        "id": "g2ZxSFgNDcxb"
      },
      "source": [
        "### Data Loader"
      ]
    },
    {
      "cell_type": "code",
      "metadata": {
        "id": "57gAUPJ5CZeN"
      },
      "source": [
        "sub_dataset_dir = 'training_validation_testing'\n",
        "training_dir = os.path.join(sub_dataset_dir, 'training')\n",
        "validation_dir = os.path.join(sub_dataset_dir, 'validation')\n",
        "test_dir = os.path.join(sub_dataset_dir, 'testing')"
      ],
      "execution_count": 80,
      "outputs": []
    },
    {
      "cell_type": "code",
      "metadata": {
        "id": "WNQLrhPGvogU"
      },
      "source": [
        "from PIL import Image, ImageFilter, ImageEnhance\n",
        "\n",
        "def transformation(imageArray):\n",
        "  image = Image.fromarray(np.reshape(imageArray, (256,256)).astype(np.uint8), 'L')\n",
        "  image = image.filter(ImageFilter.EDGE_ENHANCE)\n",
        "  image = image.filter(ImageFilter.FIND_EDGES)\n",
        "\n",
        "  for i in range(4):\n",
        "    image = image.filter(ImageFilter.SMOOTH)\n",
        "    image = image.filter(ImageFilter.MedianFilter)\n",
        "    image = ImageEnhance.Contrast(image).enhance(2)\n",
        "\n",
        "  image = image.convert('1')\n",
        "  imageArray = np.array(image, dtype=np.bool)\n",
        "\n",
        "  return np.reshape(imageArray, (256, 256, 1))"
      ],
      "execution_count": 81,
      "outputs": []
    },
    {
      "cell_type": "code",
      "metadata": {
        "id": "llN2rKFVDj66",
        "colab": {
          "base_uri": "https://localhost:8080/"
        },
        "outputId": "8a3fa12e-0acd-4afc-d4cc-fcd183439ce1"
      },
      "source": [
        "# Images are divided into folders, one for each class. \n",
        "# If the images are organized in such a way, we can exploit the \n",
        "# ImageDataGenerator to read them from disk.\n",
        "from tensorflow.keras.preprocessing.image import ImageDataGenerator\n",
        "\n",
        "# Create an instance of ImageDataGenerator for training, validation, and test sets\n",
        "# Create an instance of ImageDataGenerator with Data Augmentation\n",
        "train_data_gen = ImageDataGenerator(#preprocessing_function=transformation,\n",
        "                                    rotation_range=30,\n",
        "                                    height_shift_range=50,\n",
        "                                    width_shift_range=50,\n",
        "                                    zoom_range=0.3,\n",
        "                                    horizontal_flip=True,\n",
        "                                    vertical_flip=True,\n",
        "                                    fill_mode='reflect', #)\n",
        "                                    rescale=1/255.) # rescale value is multiplied to the image\n",
        "\n",
        "valid_data_gen = ImageDataGenerator(rescale=1/255.)#,\n",
        "                                    #preprocessing_function=transformation)\n",
        "\n",
        "test_data_gen = ImageDataGenerator(rescale=1/255.)#,\n",
        "                                    #preprocessing_function=transformation)\n",
        "\n",
        "\n",
        "# Obtain a data generator with the 'ImageDataGenerator.flow_from_directory' method\n",
        "train_gen = train_data_gen.flow_from_directory(directory=training_dir,\n",
        "                                               target_size=(256,256),\n",
        "                                               color_mode='grayscale',\n",
        "                                               classes=None, # can be set to labels\n",
        "                                               class_mode='categorical',\n",
        "                                               batch_size=8,\n",
        "                                               shuffle=True,\n",
        "                                               seed=seed)\n",
        "\n",
        "valid_gen = train_data_gen.flow_from_directory(directory=validation_dir,\n",
        "                                               target_size=(256,256),\n",
        "                                               color_mode='grayscale',\n",
        "                                               classes=None, # can be set to labels\n",
        "                                               class_mode='categorical',\n",
        "                                               batch_size=8,\n",
        "                                               shuffle=False,\n",
        "                                               seed=seed)\n",
        "\n",
        "test_gen = train_data_gen.flow_from_directory(directory=test_dir,\n",
        "                                              target_size=(256,256),\n",
        "                                              color_mode='grayscale',\n",
        "                                              classes=None, # can be set to labels\n",
        "                                              class_mode='categorical',\n",
        "                                              batch_size=8,\n",
        "                                              shuffle=False,\n",
        "                                              seed=seed)"
      ],
      "execution_count": 82,
      "outputs": [
        {
          "output_type": "stream",
          "name": "stdout",
          "text": [
            "Found 10629 images belonging to 14 classes.\n",
            "Found 3547 images belonging to 14 classes.\n",
            "Found 3552 images belonging to 14 classes.\n"
          ]
        }
      ]
    },
    {
      "cell_type": "code",
      "metadata": {
        "id": "OTe5DxLPHlDs",
        "colab": {
          "base_uri": "https://localhost:8080/"
        },
        "outputId": "03139095-f7a0-4bc6-ec5b-e4709077e013"
      },
      "source": [
        "print(\"Assigned labels\")\n",
        "print(train_gen.class_indices)\n",
        "print()\n",
        "print(\"Target classes\")\n",
        "print(train_gen.classes)"
      ],
      "execution_count": 83,
      "outputs": [
        {
          "output_type": "stream",
          "name": "stdout",
          "text": [
            "Assigned labels\n",
            "{'Apple': 0, 'Blueberry': 1, 'Cherry': 2, 'Corn': 3, 'Grape': 4, 'Orange': 5, 'Peach': 6, 'Pepper': 7, 'Potato': 8, 'Raspberry': 9, 'Soybean': 10, 'Squash': 11, 'Strawberry': 12, 'Tomato': 13}\n",
            "\n",
            "Target classes\n",
            "[ 0  0  0 ... 13 13 13]\n"
          ]
        }
      ]
    },
    {
      "cell_type": "markdown",
      "metadata": {
        "id": "OYVCeITzJGSv"
      },
      "source": [
        "### Model Metadata"
      ]
    },
    {
      "cell_type": "code",
      "metadata": {
        "id": "wxDSukBQJFZa"
      },
      "source": [
        "# Model configuration\n",
        "input_shape = (256, 256, 1)\n",
        "epochs = 100\n",
        "batch_size = 64\n",
        "n_classes = 14\n",
        "weight_decay = 1e-5\n",
        "model_name = \"CNN_gap_64\""
      ],
      "execution_count": 84,
      "outputs": []
    },
    {
      "cell_type": "markdown",
      "metadata": {
        "id": "TEjoTVrlJMN-"
      },
      "source": [
        "### CNN Model"
      ]
    },
    {
      "cell_type": "markdown",
      "metadata": {
        "id": "4mDSltclL3Xn"
      },
      "source": [
        "* Batch Norm\n",
        "* Early Stopping\n",
        "* Batch\n",
        "* Increasing Dropout\n",
        "* Weight Decay\n",
        "* Weight Initialization\n",
        "* Data Augmentation"
      ]
    },
    {
      "cell_type": "code",
      "metadata": {
        "id": "DWPOW2KrJLbz"
      },
      "source": [
        "# Model used for the exercise:\n",
        "# (Conv + ReLU + MaxPool) x 4 + (Conv + ReLU + GlobalPooling) x 1 + FC x 2\n",
        "def build_model(input_shape):\n",
        "\n",
        "    # Build the neural network layer by layer\n",
        "    input_layer = tfkl.Input(shape=input_shape, name='Input')\n",
        "\n",
        "    conv1 = tfkl.Conv2D(\n",
        "        filters=16,\n",
        "        kernel_size=(3, 3),\n",
        "        strides = (1, 1),\n",
        "        padding = 'same',\n",
        "        activation = 'relu',\n",
        "        kernel_initializer = tfk.initializers.GlorotUniform(seed),\n",
        "        kernel_regularizer=tf.keras.regularizers.l2(weight_decay)\n",
        "    )(input_layer)\n",
        "    batch_norm1 = tfkl.BatchNormalization()(conv1)\n",
        "    pool1 = tfkl.MaxPooling2D(\n",
        "        pool_size = (2, 2)\n",
        "    )(batch_norm1)\n",
        "\n",
        "    conv2 = tfkl.Conv2D(\n",
        "        filters=32,\n",
        "        kernel_size=(3, 3),\n",
        "        strides = (1, 1),\n",
        "        padding = 'same',\n",
        "        activation = 'relu',\n",
        "        kernel_initializer = tfk.initializers.GlorotUniform(seed),\n",
        "        kernel_regularizer=tf.keras.regularizers.l2(weight_decay)\n",
        "    )(pool1)\n",
        "    batch_norm2 = tfkl.BatchNormalization()(conv2)\n",
        "    pool2 = tfkl.MaxPooling2D(\n",
        "        pool_size = (2, 2)\n",
        "    )(batch_norm2)\n",
        "\n",
        "    conv3 = tfkl.Conv2D(\n",
        "        filters=64,\n",
        "        kernel_size=(3, 3),\n",
        "        strides = (1, 1),\n",
        "        padding = 'same',\n",
        "        activation = 'relu',\n",
        "        kernel_initializer = tfk.initializers.GlorotUniform(seed),\n",
        "        kernel_regularizer=tf.keras.regularizers.l2(weight_decay)\n",
        "    )(pool2)\n",
        "    batch_norm3 = tfkl.BatchNormalization()(conv3)\n",
        "    pool3 = tfkl.MaxPooling2D(\n",
        "        pool_size = (2, 2)\n",
        "    )(batch_norm3)\n",
        "\n",
        "    conv4 = tfkl.Conv2D(\n",
        "        filters=128,\n",
        "        kernel_size=(3, 3),\n",
        "        strides = (1, 1),\n",
        "        padding = 'same',\n",
        "        activation = 'relu',\n",
        "        kernel_initializer = tfk.initializers.GlorotUniform(seed),\n",
        "        kernel_regularizer=tf.keras.regularizers.l2(weight_decay)\n",
        "    )(pool3)\n",
        "    batch_norm4 = tfkl.BatchNormalization()(conv4)\n",
        "    pool4 = tfkl.MaxPooling2D(\n",
        "        pool_size = (2, 2)\n",
        "    )(batch_norm4)\n",
        "\n",
        "    conv5 = tfkl.Conv2D(\n",
        "        filters=256,\n",
        "        kernel_size=(3, 3),\n",
        "        strides = (1, 1),\n",
        "        padding = 'same',\n",
        "        activation = 'relu',\n",
        "        kernel_initializer = tfk.initializers.GlorotUniform(seed),\n",
        "        kernel_regularizer=tf.keras.regularizers.l2(weight_decay)\n",
        "    )(pool4)\n",
        "    batch_norm5 = tfkl.BatchNormalization()(conv5)\n",
        "    globalPool = tfkl.GlobalAveragePooling2D()(batch_norm5)\n",
        "\n",
        "    flattening_layer = tfkl.Flatten(name='Flatten')(globalPool)\n",
        "    flattening_layer = tfkl.Dropout(0.25, seed=seed)(flattening_layer)\n",
        "    classifier_layer = tfkl.Dense(units=512, name='Classifier', kernel_initializer=tfk.initializers.GlorotUniform(seed), activation='relu')(flattening_layer)\n",
        "    batch_norm6 = tfkl.BatchNormalization()(classifier_layer)\n",
        "    classifier_layer = tfkl.Dropout(0.5, seed=seed)(batch_norm6)\n",
        "    output_layer = tfkl.Dense(units=n_classes, activation='softmax', kernel_initializer=tfk.initializers.GlorotUniform(seed), name='Output')(classifier_layer)\n",
        "\n",
        "    # Connect input and output through the Model class\n",
        "    model = tfk.Model(inputs=input_layer, outputs=output_layer, name='model')\n",
        "\n",
        "    # Compile the model\n",
        "    model.compile(loss=tfk.losses.CategoricalCrossentropy(), optimizer=tfk.optimizers.Adam(), metrics='accuracy')\n",
        "\n",
        "    # Return the model\n",
        "    return model"
      ],
      "execution_count": 85,
      "outputs": []
    },
    {
      "cell_type": "code",
      "metadata": {
        "colab": {
          "base_uri": "https://localhost:8080/"
        },
        "id": "D1wCon5IJtEb",
        "outputId": "fb14c2a9-5345-4826-f838-87b8779a261c"
      },
      "source": [
        "# Build model\n",
        "model = build_model(input_shape)\n",
        "model.summary()"
      ],
      "execution_count": 86,
      "outputs": [
        {
          "output_type": "stream",
          "name": "stdout",
          "text": [
            "Model: \"model\"\n",
            "_________________________________________________________________\n",
            " Layer (type)                Output Shape              Param #   \n",
            "=================================================================\n",
            " Input (InputLayer)          [(None, 256, 256, 1)]     0         \n",
            "                                                                 \n",
            " conv2d_10 (Conv2D)          (None, 256, 256, 16)      160       \n",
            "                                                                 \n",
            " batch_normalization_12 (Bat  (None, 256, 256, 16)     64        \n",
            " chNormalization)                                                \n",
            "                                                                 \n",
            " max_pooling2d_8 (MaxPooling  (None, 128, 128, 16)     0         \n",
            " 2D)                                                             \n",
            "                                                                 \n",
            " conv2d_11 (Conv2D)          (None, 128, 128, 32)      4640      \n",
            "                                                                 \n",
            " batch_normalization_13 (Bat  (None, 128, 128, 32)     128       \n",
            " chNormalization)                                                \n",
            "                                                                 \n",
            " max_pooling2d_9 (MaxPooling  (None, 64, 64, 32)       0         \n",
            " 2D)                                                             \n",
            "                                                                 \n",
            " conv2d_12 (Conv2D)          (None, 64, 64, 64)        18496     \n",
            "                                                                 \n",
            " batch_normalization_14 (Bat  (None, 64, 64, 64)       256       \n",
            " chNormalization)                                                \n",
            "                                                                 \n",
            " max_pooling2d_10 (MaxPoolin  (None, 32, 32, 64)       0         \n",
            " g2D)                                                            \n",
            "                                                                 \n",
            " conv2d_13 (Conv2D)          (None, 32, 32, 128)       73856     \n",
            "                                                                 \n",
            " batch_normalization_15 (Bat  (None, 32, 32, 128)      512       \n",
            " chNormalization)                                                \n",
            "                                                                 \n",
            " max_pooling2d_11 (MaxPoolin  (None, 16, 16, 128)      0         \n",
            " g2D)                                                            \n",
            "                                                                 \n",
            " conv2d_14 (Conv2D)          (None, 16, 16, 256)       295168    \n",
            "                                                                 \n",
            " batch_normalization_16 (Bat  (None, 16, 16, 256)      1024      \n",
            " chNormalization)                                                \n",
            "                                                                 \n",
            " global_average_pooling2d_2   (None, 256)              0         \n",
            " (GlobalAveragePooling2D)                                        \n",
            "                                                                 \n",
            " Flatten (Flatten)           (None, 256)               0         \n",
            "                                                                 \n",
            " dropout_4 (Dropout)         (None, 256)               0         \n",
            "                                                                 \n",
            " Classifier (Dense)          (None, 512)               131584    \n",
            "                                                                 \n",
            " batch_normalization_17 (Bat  (None, 512)              2048      \n",
            " chNormalization)                                                \n",
            "                                                                 \n",
            " dropout_5 (Dropout)         (None, 512)               0         \n",
            "                                                                 \n",
            " Output (Dense)              (None, 14)                7182      \n",
            "                                                                 \n",
            "=================================================================\n",
            "Total params: 535,118\n",
            "Trainable params: 533,102\n",
            "Non-trainable params: 2,016\n",
            "_________________________________________________________________\n"
          ]
        }
      ]
    },
    {
      "cell_type": "code",
      "metadata": {
        "id": "IQB9t49ZLNvy"
      },
      "source": [
        "#tfk.utils.plot_model(model)"
      ],
      "execution_count": 87,
      "outputs": []
    },
    {
      "cell_type": "code",
      "metadata": {
        "id": "8zHWyk5bLPsO",
        "colab": {
          "base_uri": "https://localhost:8080/",
          "height": 1000
        },
        "outputId": "5f3b9ae2-f928-4877-8f00-271c5e080c3c"
      },
      "source": [
        "visualkeras.layered_view(model, legend=True, spacing=20, scale_xy=10)"
      ],
      "execution_count": 88,
      "outputs": [
        {
          "output_type": "execute_result",
          "data": {
            "image/png": "[encoded data removed]",
            "text/plain": [
              "<PIL.Image.Image image mode=RGBA size=1339x2703 at 0x7F919623C550>"
            ]
          },
          "metadata": {},
          "execution_count": 88
        }
      ]
    },
    {
      "cell_type": "markdown",
      "metadata": {
        "id": "Ay2OLrM4EhOv"
      },
      "source": [
        "### Training"
      ]
    },
    {
      "cell_type": "code",
      "metadata": {
        "id": "QZaR4qPFDY53"
      },
      "source": [
        "# Utility function to create folders and callbacks for training\n",
        "from datetime import datetime\n",
        "\n",
        "def create_folders_and_callbacks(model_name):\n",
        "\n",
        "  exps_dir = os.path.join('models')\n",
        "  if not os.path.exists(exps_dir):\n",
        "      os.makedirs(exps_dir)\n",
        "\n",
        "  now = datetime.now().strftime('%b%d_%H-%M-%S')\n",
        "\n",
        "  exp_dir = os.path.join(exps_dir, model_name + '_' + str(now))\n",
        "  if not os.path.exists(exp_dir):\n",
        "      os.makedirs(exp_dir)\n",
        "      \n",
        "  callbacks = []\n",
        "\n",
        "  # Model checkpoint\n",
        "  # ----------------\n",
        "  ckpt_dir = os.path.join(exp_dir, 'ckpts')\n",
        "  if not os.path.exists(ckpt_dir):\n",
        "      os.makedirs(ckpt_dir)\n",
        "\n",
        "  ckpt_callback = tf.keras.callbacks.ModelCheckpoint(filepath=os.path.join(ckpt_dir, 'cp.ckpt'), \n",
        "                                                     save_weights_only=False, # True to save only weights\n",
        "                                                     save_best_only=False) # True to save only the best epoch \n",
        "  callbacks.append(ckpt_callback)\n",
        "\n",
        "  # Visualize Learning on Tensorboard\n",
        "  # ---------------------------------\n",
        "  tb_dir = os.path.join(exp_dir, 'tb_logs')\n",
        "  if not os.path.exists(tb_dir):\n",
        "      os.makedirs(tb_dir)\n",
        "      \n",
        "  # By default shows losses and metrics for both training and validation\n",
        "  tb_callback = tf.keras.callbacks.TensorBoard(log_dir=tb_dir, \n",
        "                                               profile_batch=0,\n",
        "                                               histogram_freq=1)  # if > 0 (epochs) shows weights histograms\n",
        "  callbacks.append(tb_callback)\n",
        "\n",
        "  # Early Stopping\n",
        "  # --------------\n",
        "  es_callback = tf.keras.callbacks.EarlyStopping(monitor='val_loss', patience=10, restore_best_weights=True)\n",
        "  callbacks.append(es_callback)\n",
        "\n",
        "  return callbacks"
      ],
      "execution_count": 89,
      "outputs": []
    },
    {
      "cell_type": "code",
      "metadata": {
        "id": "CHkqrUCXJtkK",
        "colab": {
          "base_uri": "https://localhost:8080/"
        },
        "outputId": "8f18a74c-efd4-4cfb-bc2e-926ca7e6c175"
      },
      "source": [
        "# Create folders and callbacks and fit\n",
        "callbacks = create_folders_and_callbacks(model_name=model_name)\n",
        "\n",
        "# Train the model\n",
        "history = model.fit(\n",
        "    x = train_gen,\n",
        "    batch_size = batch_size,\n",
        "    epochs = epochs,\n",
        "    validation_data = valid_gen,\n",
        "    callbacks=[callbacks]\n",
        ").history"
      ],
      "execution_count": 90,
      "outputs": [
        {
          "output_type": "stream",
          "name": "stdout",
          "text": [
            "Epoch 1/100\n",
            "1329/1329 [==============================] - ETA: 0s - loss: 2.1380 - accuracy: 0.4014"
          ]
        },
        {
          "output_type": "stream",
          "name": "stderr",
          "text": [
            "WARNING:absl:Function `_wrapped_model` contains input name(s) Input with unsupported characters which will be renamed to input in the SavedModel.\n"
          ]
        },
        {
          "output_type": "stream",
          "name": "stdout",
          "text": [
            "INFO:tensorflow:Assets written to: models/CNN_gap_128_Nov15_18-51-08/ckpts/cp.ckpt/assets\n"
          ]
        },
        {
          "output_type": "stream",
          "name": "stderr",
          "text": [
            "INFO:tensorflow:Assets written to: models/CNN_gap_128_Nov15_18-51-08/ckpts/cp.ckpt/assets\n"
          ]
        },
        {
          "output_type": "stream",
          "name": "stdout",
          "text": [
            "1329/1329 [==============================] - 1489s 1s/step - loss: 2.1380 - accuracy: 0.4014 - val_loss: 1.6548 - val_accuracy: 0.4844\n",
            "Epoch 2/100\n",
            "1329/1329 [==============================] - ETA: 0s - loss: 1.5367 - accuracy: 0.5194"
          ]
        },
        {
          "output_type": "stream",
          "name": "stderr",
          "text": [
            "WARNING:absl:Function `_wrapped_model` contains input name(s) Input with unsupported characters which will be renamed to input in the SavedModel.\n"
          ]
        },
        {
          "output_type": "stream",
          "name": "stdout",
          "text": [
            "INFO:tensorflow:Assets written to: models/CNN_gap_128_Nov15_18-51-08/ckpts/cp.ckpt/assets\n"
          ]
        },
        {
          "output_type": "stream",
          "name": "stderr",
          "text": [
            "INFO:tensorflow:Assets written to: models/CNN_gap_128_Nov15_18-51-08/ckpts/cp.ckpt/assets\n"
          ]
        },
        {
          "output_type": "stream",
          "name": "stdout",
          "text": [
            "1329/1329 [==============================] - 153s 115ms/step - loss: 1.5367 - accuracy: 0.5194 - val_loss: 1.8583 - val_accuracy: 0.3958\n",
            "Epoch 3/100\n",
            "1329/1329 [==============================] - ETA: 0s - loss: 1.2068 - accuracy: 0.6165"
          ]
        },
        {
          "output_type": "stream",
          "name": "stderr",
          "text": [
            "WARNING:absl:Function `_wrapped_model` contains input name(s) Input with unsupported characters which will be renamed to input in the SavedModel.\n"
          ]
        },
        {
          "output_type": "stream",
          "name": "stdout",
          "text": [
            "INFO:tensorflow:Assets written to: models/CNN_gap_128_Nov15_18-51-08/ckpts/cp.ckpt/assets\n"
          ]
        },
        {
          "output_type": "stream",
          "name": "stderr",
          "text": [
            "INFO:tensorflow:Assets written to: models/CNN_gap_128_Nov15_18-51-08/ckpts/cp.ckpt/assets\n"
          ]
        },
        {
          "output_type": "stream",
          "name": "stdout",
          "text": [
            "1329/1329 [==============================] - 153s 115ms/step - loss: 1.2068 - accuracy: 0.6165 - val_loss: 2.1356 - val_accuracy: 0.4314\n",
            "Epoch 4/100\n",
            "1329/1329 [==============================] - ETA: 0s - loss: 1.0215 - accuracy: 0.6806"
          ]
        },
        {
          "output_type": "stream",
          "name": "stderr",
          "text": [
            "WARNING:absl:Function `_wrapped_model` contains input name(s) Input with unsupported characters which will be renamed to input in the SavedModel.\n"
          ]
        },
        {
          "output_type": "stream",
          "name": "stdout",
          "text": [
            "INFO:tensorflow:Assets written to: models/CNN_gap_128_Nov15_18-51-08/ckpts/cp.ckpt/assets\n"
          ]
        },
        {
          "output_type": "stream",
          "name": "stderr",
          "text": [
            "INFO:tensorflow:Assets written to: models/CNN_gap_128_Nov15_18-51-08/ckpts/cp.ckpt/assets\n"
          ]
        },
        {
          "output_type": "stream",
          "name": "stdout",
          "text": [
            "1329/1329 [==============================] - 153s 115ms/step - loss: 1.0215 - accuracy: 0.6806 - val_loss: 1.5299 - val_accuracy: 0.5379\n",
            "Epoch 5/100\n",
            "1329/1329 [==============================] - ETA: 0s - loss: 0.8708 - accuracy: 0.7246"
          ]
        },
        {
          "output_type": "stream",
          "name": "stderr",
          "text": [
            "WARNING:absl:Function `_wrapped_model` contains input name(s) Input with unsupported characters which will be renamed to input in the SavedModel.\n"
          ]
        },
        {
          "output_type": "stream",
          "name": "stdout",
          "text": [
            "INFO:tensorflow:Assets written to: models/CNN_gap_128_Nov15_18-51-08/ckpts/cp.ckpt/assets\n"
          ]
        },
        {
          "output_type": "stream",
          "name": "stderr",
          "text": [
            "INFO:tensorflow:Assets written to: models/CNN_gap_128_Nov15_18-51-08/ckpts/cp.ckpt/assets\n"
          ]
        },
        {
          "output_type": "stream",
          "name": "stdout",
          "text": [
            "1329/1329 [==============================] - 154s 116ms/step - loss: 0.8708 - accuracy: 0.7246 - val_loss: 1.9693 - val_accuracy: 0.5782\n",
            "Epoch 6/100\n",
            "1329/1329 [==============================] - ETA: 0s - loss: 0.7684 - accuracy: 0.7566"
          ]
        },
        {
          "output_type": "stream",
          "name": "stderr",
          "text": [
            "WARNING:absl:Function `_wrapped_model` contains input name(s) Input with unsupported characters which will be renamed to input in the SavedModel.\n"
          ]
        },
        {
          "output_type": "stream",
          "name": "stdout",
          "text": [
            "INFO:tensorflow:Assets written to: models/CNN_gap_128_Nov15_18-51-08/ckpts/cp.ckpt/assets\n"
          ]
        },
        {
          "output_type": "stream",
          "name": "stderr",
          "text": [
            "INFO:tensorflow:Assets written to: models/CNN_gap_128_Nov15_18-51-08/ckpts/cp.ckpt/assets\n"
          ]
        },
        {
          "output_type": "stream",
          "name": "stdout",
          "text": [
            "1329/1329 [==============================] - 154s 116ms/step - loss: 0.7684 - accuracy: 0.7566 - val_loss: 3.4673 - val_accuracy: 0.4714\n",
            "Epoch 7/100\n",
            "1329/1329 [==============================] - ETA: 0s - loss: 0.7114 - accuracy: 0.7737"
          ]
        },
        {
          "output_type": "stream",
          "name": "stderr",
          "text": [
            "WARNING:absl:Function `_wrapped_model` contains input name(s) Input with unsupported characters which will be renamed to input in the SavedModel.\n"
          ]
        },
        {
          "output_type": "stream",
          "name": "stdout",
          "text": [
            "INFO:tensorflow:Assets written to: models/CNN_gap_128_Nov15_18-51-08/ckpts/cp.ckpt/assets\n"
          ]
        },
        {
          "output_type": "stream",
          "name": "stderr",
          "text": [
            "INFO:tensorflow:Assets written to: models/CNN_gap_128_Nov15_18-51-08/ckpts/cp.ckpt/assets\n"
          ]
        },
        {
          "output_type": "stream",
          "name": "stdout",
          "text": [
            "1329/1329 [==============================] - 150s 113ms/step - loss: 0.7114 - accuracy: 0.7737 - val_loss: 0.5476 - val_accuracy: 0.8337\n",
            "Epoch 8/100\n",
            "1329/1329 [==============================] - ETA: 0s - loss: 0.6324 - accuracy: 0.7989"
          ]
        },
        {
          "output_type": "stream",
          "name": "stderr",
          "text": [
            "WARNING:absl:Function `_wrapped_model` contains input name(s) Input with unsupported characters which will be renamed to input in the SavedModel.\n"
          ]
        },
        {
          "output_type": "stream",
          "name": "stdout",
          "text": [
            "INFO:tensorflow:Assets written to: models/CNN_gap_128_Nov15_18-51-08/ckpts/cp.ckpt/assets\n"
          ]
        },
        {
          "output_type": "stream",
          "name": "stderr",
          "text": [
            "INFO:tensorflow:Assets written to: models/CNN_gap_128_Nov15_18-51-08/ckpts/cp.ckpt/assets\n"
          ]
        },
        {
          "output_type": "stream",
          "name": "stdout",
          "text": [
            "1329/1329 [==============================] - 154s 116ms/step - loss: 0.6324 - accuracy: 0.7989 - val_loss: 4.3268 - val_accuracy: 0.3569\n",
            "Epoch 9/100\n",
            "1329/1329 [==============================] - ETA: 0s - loss: 0.5927 - accuracy: 0.8227"
          ]
        },
        {
          "output_type": "stream",
          "name": "stderr",
          "text": [
            "WARNING:absl:Function `_wrapped_model` contains input name(s) Input with unsupported characters which will be renamed to input in the SavedModel.\n"
          ]
        },
        {
          "output_type": "stream",
          "name": "stdout",
          "text": [
            "INFO:tensorflow:Assets written to: models/CNN_gap_128_Nov15_18-51-08/ckpts/cp.ckpt/assets\n"
          ]
        },
        {
          "output_type": "stream",
          "name": "stderr",
          "text": [
            "INFO:tensorflow:Assets written to: models/CNN_gap_128_Nov15_18-51-08/ckpts/cp.ckpt/assets\n"
          ]
        },
        {
          "output_type": "stream",
          "name": "stdout",
          "text": [
            "1329/1329 [==============================] - 152s 115ms/step - loss: 0.5927 - accuracy: 0.8227 - val_loss: 1.4381 - val_accuracy: 0.6262\n",
            "Epoch 10/100\n",
            "1329/1329 [==============================] - ETA: 0s - loss: 0.5573 - accuracy: 0.8323"
          ]
        },
        {
          "output_type": "stream",
          "name": "stderr",
          "text": [
            "WARNING:absl:Function `_wrapped_model` contains input name(s) Input with unsupported characters which will be renamed to input in the SavedModel.\n"
          ]
        },
        {
          "output_type": "stream",
          "name": "stdout",
          "text": [
            "INFO:tensorflow:Assets written to: models/CNN_gap_128_Nov15_18-51-08/ckpts/cp.ckpt/assets\n"
          ]
        },
        {
          "output_type": "stream",
          "name": "stderr",
          "text": [
            "INFO:tensorflow:Assets written to: models/CNN_gap_128_Nov15_18-51-08/ckpts/cp.ckpt/assets\n"
          ]
        },
        {
          "output_type": "stream",
          "name": "stdout",
          "text": [
            "1329/1329 [==============================] - 152s 115ms/step - loss: 0.5573 - accuracy: 0.8323 - val_loss: 0.6883 - val_accuracy: 0.8021\n",
            "Epoch 11/100\n",
            "1329/1329 [==============================] - ETA: 0s - loss: 0.5349 - accuracy: 0.8379"
          ]
        },
        {
          "output_type": "stream",
          "name": "stderr",
          "text": [
            "WARNING:absl:Function `_wrapped_model` contains input name(s) Input with unsupported characters which will be renamed to input in the SavedModel.\n"
          ]
        },
        {
          "output_type": "stream",
          "name": "stdout",
          "text": [
            "INFO:tensorflow:Assets written to: models/CNN_gap_128_Nov15_18-51-08/ckpts/cp.ckpt/assets\n"
          ]
        },
        {
          "output_type": "stream",
          "name": "stderr",
          "text": [
            "INFO:tensorflow:Assets written to: models/CNN_gap_128_Nov15_18-51-08/ckpts/cp.ckpt/assets\n"
          ]
        },
        {
          "output_type": "stream",
          "name": "stdout",
          "text": [
            "1329/1329 [==============================] - 152s 114ms/step - loss: 0.5349 - accuracy: 0.8379 - val_loss: 0.5461 - val_accuracy: 0.8472\n",
            "Epoch 12/100\n",
            "1329/1329 [==============================] - ETA: 0s - loss: 0.4979 - accuracy: 0.8535"
          ]
        },
        {
          "output_type": "stream",
          "name": "stderr",
          "text": [
            "WARNING:absl:Function `_wrapped_model` contains input name(s) Input with unsupported characters which will be renamed to input in the SavedModel.\n"
          ]
        },
        {
          "output_type": "stream",
          "name": "stdout",
          "text": [
            "INFO:tensorflow:Assets written to: models/CNN_gap_128_Nov15_18-51-08/ckpts/cp.ckpt/assets\n"
          ]
        },
        {
          "output_type": "stream",
          "name": "stderr",
          "text": [
            "INFO:tensorflow:Assets written to: models/CNN_gap_128_Nov15_18-51-08/ckpts/cp.ckpt/assets\n"
          ]
        },
        {
          "output_type": "stream",
          "name": "stdout",
          "text": [
            "1329/1329 [==============================] - 152s 115ms/step - loss: 0.4979 - accuracy: 0.8535 - val_loss: 0.3821 - val_accuracy: 0.8960\n",
            "Epoch 13/100\n",
            "1329/1329 [==============================] - ETA: 0s - loss: 0.4805 - accuracy: 0.8580"
          ]
        },
        {
          "output_type": "stream",
          "name": "stderr",
          "text": [
            "WARNING:absl:Function `_wrapped_model` contains input name(s) Input with unsupported characters which will be renamed to input in the SavedModel.\n"
          ]
        },
        {
          "output_type": "stream",
          "name": "stdout",
          "text": [
            "INFO:tensorflow:Assets written to: models/CNN_gap_128_Nov15_18-51-08/ckpts/cp.ckpt/assets\n"
          ]
        },
        {
          "output_type": "stream",
          "name": "stderr",
          "text": [
            "INFO:tensorflow:Assets written to: models/CNN_gap_128_Nov15_18-51-08/ckpts/cp.ckpt/assets\n"
          ]
        },
        {
          "output_type": "stream",
          "name": "stdout",
          "text": [
            "1329/1329 [==============================] - 152s 114ms/step - loss: 0.4805 - accuracy: 0.8580 - val_loss: 0.6960 - val_accuracy: 0.8080\n",
            "Epoch 14/100\n",
            "1329/1329 [==============================] - ETA: 0s - loss: 0.4621 - accuracy: 0.8691"
          ]
        },
        {
          "output_type": "stream",
          "name": "stderr",
          "text": [
            "WARNING:absl:Function `_wrapped_model` contains input name(s) Input with unsupported characters which will be renamed to input in the SavedModel.\n"
          ]
        },
        {
          "output_type": "stream",
          "name": "stdout",
          "text": [
            "INFO:tensorflow:Assets written to: models/CNN_gap_128_Nov15_18-51-08/ckpts/cp.ckpt/assets\n"
          ]
        },
        {
          "output_type": "stream",
          "name": "stderr",
          "text": [
            "INFO:tensorflow:Assets written to: models/CNN_gap_128_Nov15_18-51-08/ckpts/cp.ckpt/assets\n"
          ]
        },
        {
          "output_type": "stream",
          "name": "stdout",
          "text": [
            "1329/1329 [==============================] - 153s 115ms/step - loss: 0.4621 - accuracy: 0.8691 - val_loss: 0.4309 - val_accuracy: 0.8838\n",
            "Epoch 15/100\n",
            "1329/1329 [==============================] - ETA: 0s - loss: 0.4405 - accuracy: 0.8726"
          ]
        },
        {
          "output_type": "stream",
          "name": "stderr",
          "text": [
            "WARNING:absl:Function `_wrapped_model` contains input name(s) Input with unsupported characters which will be renamed to input in the SavedModel.\n"
          ]
        },
        {
          "output_type": "stream",
          "name": "stdout",
          "text": [
            "INFO:tensorflow:Assets written to: models/CNN_gap_128_Nov15_18-51-08/ckpts/cp.ckpt/assets\n"
          ]
        },
        {
          "output_type": "stream",
          "name": "stderr",
          "text": [
            "INFO:tensorflow:Assets written to: models/CNN_gap_128_Nov15_18-51-08/ckpts/cp.ckpt/assets\n"
          ]
        },
        {
          "output_type": "stream",
          "name": "stdout",
          "text": [
            "1329/1329 [==============================] - 150s 113ms/step - loss: 0.4405 - accuracy: 0.8726 - val_loss: 0.4686 - val_accuracy: 0.8700\n",
            "Epoch 16/100\n",
            "1329/1329 [==============================] - ETA: 0s - loss: 0.4338 - accuracy: 0.8734"
          ]
        },
        {
          "output_type": "stream",
          "name": "stderr",
          "text": [
            "WARNING:absl:Function `_wrapped_model` contains input name(s) Input with unsupported characters which will be renamed to input in the SavedModel.\n"
          ]
        },
        {
          "output_type": "stream",
          "name": "stdout",
          "text": [
            "INFO:tensorflow:Assets written to: models/CNN_gap_128_Nov15_18-51-08/ckpts/cp.ckpt/assets\n"
          ]
        },
        {
          "output_type": "stream",
          "name": "stderr",
          "text": [
            "INFO:tensorflow:Assets written to: models/CNN_gap_128_Nov15_18-51-08/ckpts/cp.ckpt/assets\n"
          ]
        },
        {
          "output_type": "stream",
          "name": "stdout",
          "text": [
            "1329/1329 [==============================] - 147s 111ms/step - loss: 0.4338 - accuracy: 0.8734 - val_loss: 0.2457 - val_accuracy: 0.9385\n",
            "Epoch 17/100\n",
            "1329/1329 [==============================] - ETA: 0s - loss: 0.4293 - accuracy: 0.8799"
          ]
        },
        {
          "output_type": "stream",
          "name": "stderr",
          "text": [
            "WARNING:absl:Function `_wrapped_model` contains input name(s) Input with unsupported characters which will be renamed to input in the SavedModel.\n"
          ]
        },
        {
          "output_type": "stream",
          "name": "stdout",
          "text": [
            "INFO:tensorflow:Assets written to: models/CNN_gap_128_Nov15_18-51-08/ckpts/cp.ckpt/assets\n"
          ]
        },
        {
          "output_type": "stream",
          "name": "stderr",
          "text": [
            "INFO:tensorflow:Assets written to: models/CNN_gap_128_Nov15_18-51-08/ckpts/cp.ckpt/assets\n"
          ]
        },
        {
          "output_type": "stream",
          "name": "stdout",
          "text": [
            "1329/1329 [==============================] - 147s 111ms/step - loss: 0.4293 - accuracy: 0.8799 - val_loss: 0.4733 - val_accuracy: 0.8745\n",
            "Epoch 18/100\n",
            "1329/1329 [==============================] - ETA: 0s - loss: 0.4043 - accuracy: 0.8869"
          ]
        },
        {
          "output_type": "stream",
          "name": "stderr",
          "text": [
            "WARNING:absl:Function `_wrapped_model` contains input name(s) Input with unsupported characters which will be renamed to input in the SavedModel.\n"
          ]
        },
        {
          "output_type": "stream",
          "name": "stdout",
          "text": [
            "INFO:tensorflow:Assets written to: models/CNN_gap_128_Nov15_18-51-08/ckpts/cp.ckpt/assets\n"
          ]
        },
        {
          "output_type": "stream",
          "name": "stderr",
          "text": [
            "INFO:tensorflow:Assets written to: models/CNN_gap_128_Nov15_18-51-08/ckpts/cp.ckpt/assets\n"
          ]
        },
        {
          "output_type": "stream",
          "name": "stdout",
          "text": [
            "1329/1329 [==============================] - 149s 112ms/step - loss: 0.4043 - accuracy: 0.8869 - val_loss: 0.3735 - val_accuracy: 0.9047\n",
            "Epoch 19/100\n",
            "1329/1329 [==============================] - ETA: 0s - loss: 0.4076 - accuracy: 0.8841"
          ]
        },
        {
          "output_type": "stream",
          "name": "stderr",
          "text": [
            "WARNING:absl:Function `_wrapped_model` contains input name(s) Input with unsupported characters which will be renamed to input in the SavedModel.\n"
          ]
        },
        {
          "output_type": "stream",
          "name": "stdout",
          "text": [
            "INFO:tensorflow:Assets written to: models/CNN_gap_128_Nov15_18-51-08/ckpts/cp.ckpt/assets\n"
          ]
        },
        {
          "output_type": "stream",
          "name": "stderr",
          "text": [
            "INFO:tensorflow:Assets written to: models/CNN_gap_128_Nov15_18-51-08/ckpts/cp.ckpt/assets\n"
          ]
        },
        {
          "output_type": "stream",
          "name": "stdout",
          "text": [
            "1329/1329 [==============================] - 148s 111ms/step - loss: 0.4076 - accuracy: 0.8841 - val_loss: 0.8338 - val_accuracy: 0.8007\n",
            "Epoch 20/100\n",
            "1329/1329 [==============================] - ETA: 0s - loss: 0.3869 - accuracy: 0.8922"
          ]
        },
        {
          "output_type": "stream",
          "name": "stderr",
          "text": [
            "WARNING:absl:Function `_wrapped_model` contains input name(s) Input with unsupported characters which will be renamed to input in the SavedModel.\n"
          ]
        },
        {
          "output_type": "stream",
          "name": "stdout",
          "text": [
            "INFO:tensorflow:Assets written to: models/CNN_gap_128_Nov15_18-51-08/ckpts/cp.ckpt/assets\n"
          ]
        },
        {
          "output_type": "stream",
          "name": "stderr",
          "text": [
            "INFO:tensorflow:Assets written to: models/CNN_gap_128_Nov15_18-51-08/ckpts/cp.ckpt/assets\n"
          ]
        },
        {
          "output_type": "stream",
          "name": "stdout",
          "text": [
            "1329/1329 [==============================] - 148s 111ms/step - loss: 0.3869 - accuracy: 0.8922 - val_loss: 0.3414 - val_accuracy: 0.9087\n",
            "Epoch 21/100\n",
            "1329/1329 [==============================] - ETA: 0s - loss: 0.3927 - accuracy: 0.8952"
          ]
        },
        {
          "output_type": "stream",
          "name": "stderr",
          "text": [
            "WARNING:absl:Function `_wrapped_model` contains input name(s) Input with unsupported characters which will be renamed to input in the SavedModel.\n"
          ]
        },
        {
          "output_type": "stream",
          "name": "stdout",
          "text": [
            "INFO:tensorflow:Assets written to: models/CNN_gap_128_Nov15_18-51-08/ckpts/cp.ckpt/assets\n"
          ]
        },
        {
          "output_type": "stream",
          "name": "stderr",
          "text": [
            "INFO:tensorflow:Assets written to: models/CNN_gap_128_Nov15_18-51-08/ckpts/cp.ckpt/assets\n"
          ]
        },
        {
          "output_type": "stream",
          "name": "stdout",
          "text": [
            "1329/1329 [==============================] - 148s 111ms/step - loss: 0.3927 - accuracy: 0.8952 - val_loss: 1.9269 - val_accuracy: 0.6927\n",
            "Epoch 22/100\n",
            "1329/1329 [==============================] - ETA: 0s - loss: 0.3837 - accuracy: 0.8981"
          ]
        },
        {
          "output_type": "stream",
          "name": "stderr",
          "text": [
            "WARNING:absl:Function `_wrapped_model` contains input name(s) Input with unsupported characters which will be renamed to input in the SavedModel.\n"
          ]
        },
        {
          "output_type": "stream",
          "name": "stdout",
          "text": [
            "INFO:tensorflow:Assets written to: models/CNN_gap_128_Nov15_18-51-08/ckpts/cp.ckpt/assets\n"
          ]
        },
        {
          "output_type": "stream",
          "name": "stderr",
          "text": [
            "INFO:tensorflow:Assets written to: models/CNN_gap_128_Nov15_18-51-08/ckpts/cp.ckpt/assets\n"
          ]
        },
        {
          "output_type": "stream",
          "name": "stdout",
          "text": [
            "1329/1329 [==============================] - 150s 113ms/step - loss: 0.3837 - accuracy: 0.8981 - val_loss: 0.3417 - val_accuracy: 0.9064\n",
            "Epoch 23/100\n",
            "1329/1329 [==============================] - ETA: 0s - loss: 0.3682 - accuracy: 0.8998"
          ]
        },
        {
          "output_type": "stream",
          "name": "stderr",
          "text": [
            "WARNING:absl:Function `_wrapped_model` contains input name(s) Input with unsupported characters which will be renamed to input in the SavedModel.\n"
          ]
        },
        {
          "output_type": "stream",
          "name": "stdout",
          "text": [
            "INFO:tensorflow:Assets written to: models/CNN_gap_128_Nov15_18-51-08/ckpts/cp.ckpt/assets\n"
          ]
        },
        {
          "output_type": "stream",
          "name": "stderr",
          "text": [
            "INFO:tensorflow:Assets written to: models/CNN_gap_128_Nov15_18-51-08/ckpts/cp.ckpt/assets\n"
          ]
        },
        {
          "output_type": "stream",
          "name": "stdout",
          "text": [
            "1329/1329 [==============================] - 149s 112ms/step - loss: 0.3682 - accuracy: 0.8998 - val_loss: 0.4252 - val_accuracy: 0.8917\n",
            "Epoch 24/100\n",
            "1329/1329 [==============================] - ETA: 0s - loss: 0.3853 - accuracy: 0.8990"
          ]
        },
        {
          "output_type": "stream",
          "name": "stderr",
          "text": [
            "WARNING:absl:Function `_wrapped_model` contains input name(s) Input with unsupported characters which will be renamed to input in the SavedModel.\n"
          ]
        },
        {
          "output_type": "stream",
          "name": "stdout",
          "text": [
            "INFO:tensorflow:Assets written to: models/CNN_gap_128_Nov15_18-51-08/ckpts/cp.ckpt/assets\n"
          ]
        },
        {
          "output_type": "stream",
          "name": "stderr",
          "text": [
            "INFO:tensorflow:Assets written to: models/CNN_gap_128_Nov15_18-51-08/ckpts/cp.ckpt/assets\n"
          ]
        },
        {
          "output_type": "stream",
          "name": "stdout",
          "text": [
            "1329/1329 [==============================] - 149s 112ms/step - loss: 0.3853 - accuracy: 0.8990 - val_loss: 0.7740 - val_accuracy: 0.8024\n",
            "Epoch 25/100\n",
            "1329/1329 [==============================] - ETA: 0s - loss: 0.3675 - accuracy: 0.9041"
          ]
        },
        {
          "output_type": "stream",
          "name": "stderr",
          "text": [
            "WARNING:absl:Function `_wrapped_model` contains input name(s) Input with unsupported characters which will be renamed to input in the SavedModel.\n"
          ]
        },
        {
          "output_type": "stream",
          "name": "stdout",
          "text": [
            "INFO:tensorflow:Assets written to: models/CNN_gap_128_Nov15_18-51-08/ckpts/cp.ckpt/assets\n"
          ]
        },
        {
          "output_type": "stream",
          "name": "stderr",
          "text": [
            "INFO:tensorflow:Assets written to: models/CNN_gap_128_Nov15_18-51-08/ckpts/cp.ckpt/assets\n"
          ]
        },
        {
          "output_type": "stream",
          "name": "stdout",
          "text": [
            "1329/1329 [==============================] - 149s 112ms/step - loss: 0.3675 - accuracy: 0.9041 - val_loss: 0.3778 - val_accuracy: 0.9016\n",
            "Epoch 26/100\n",
            "1329/1329 [==============================] - ETA: 0s - loss: 0.3593 - accuracy: 0.9086"
          ]
        },
        {
          "output_type": "stream",
          "name": "stderr",
          "text": [
            "WARNING:absl:Function `_wrapped_model` contains input name(s) Input with unsupported characters which will be renamed to input in the SavedModel.\n"
          ]
        },
        {
          "output_type": "stream",
          "name": "stdout",
          "text": [
            "INFO:tensorflow:Assets written to: models/CNN_gap_128_Nov15_18-51-08/ckpts/cp.ckpt/assets\n"
          ]
        },
        {
          "output_type": "stream",
          "name": "stderr",
          "text": [
            "INFO:tensorflow:Assets written to: models/CNN_gap_128_Nov15_18-51-08/ckpts/cp.ckpt/assets\n"
          ]
        },
        {
          "output_type": "stream",
          "name": "stdout",
          "text": [
            "\b\b\b\b\b\b\b\b\b\b\b\b\b\b\b\b\b\b\b\b\b\b\b\b\b\b\b\b\b\b\b\b\b\b\b\b\b\b\b\b\b\b\b\b\b\b\b\b\b\b\b\b\b\b\b\b\b\b\b\b\b\b\b\b\b\b\b\b\b\b\b\b\b\b\b\b\b\b\b\b\b\b\b\b\b\b\r1329/1329 [==============================] - 150s 113ms/step - loss: 0.3593 - accuracy: 0.9086 - val_loss: 0.3748 - val_accuracy: 0.9087\n"
          ]
        }
      ]
    },
    {
      "cell_type": "code",
      "metadata": {
        "id": "kMiuNBj3GusE",
        "colab": {
          "base_uri": "https://localhost:8080/"
        },
        "outputId": "45f3a06d-dcf3-478d-94de-bc065f2ca5d8"
      },
      "source": [
        "# Save best epoch model\n",
        "model.save(\"models/\" + model_name + \"_best_\" + str(datetime.now().strftime('%b%d_%H-%M-%S')))"
      ],
      "execution_count": 91,
      "outputs": [
        {
          "output_type": "stream",
          "name": "stderr",
          "text": [
            "WARNING:absl:Function `_wrapped_model` contains input name(s) Input with unsupported characters which will be renamed to input in the SavedModel.\n"
          ]
        },
        {
          "output_type": "stream",
          "name": "stdout",
          "text": [
            "INFO:tensorflow:Assets written to: models/CNN_gap_128_best_Nov15_20-18-45/assets\n"
          ]
        },
        {
          "output_type": "stream",
          "name": "stderr",
          "text": [
            "INFO:tensorflow:Assets written to: models/CNN_gap_128_best_Nov15_20-18-45/assets\n"
          ]
        }
      ]
    },
    {
      "cell_type": "code",
      "metadata": {
        "id": "R87QR5kMAr-A",
        "colab": {
          "base_uri": "https://localhost:8080/",
          "height": 655
        },
        "outputId": "b2f6ca31-00c0-48f4-bd27-9368b1c292c3"
      },
      "source": [
        "# Plot the training\n",
        "plt.figure(figsize=(15,5))\n",
        "plt.plot(history['accuracy'], label='Training', alpha=.8, color='#ff7f0e')\n",
        "plt.plot(history['val_accuracy'], label='Validation', alpha=.8, color='#4D61E2')\n",
        "plt.ylim(0, 1)\n",
        "plt.title('Accuracy')\n",
        "plt.legend(loc='upper right')\n",
        "plt.grid(alpha=.3)\n",
        "\n",
        "plt.figure(figsize=(15,5))\n",
        "plt.plot(history['loss'], label='Training', alpha=.8, color='#ff7f0e')\n",
        "plt.plot(history['val_loss'], label='Validation', alpha=.8, color='#4D61E2')\n",
        "plt.ylim(0, 10)\n",
        "plt.title('Accuracy')\n",
        "plt.legend(loc='upper right')\n",
        "plt.grid(alpha=.3)\n",
        "\n",
        "plt.show()"
      ],
      "execution_count": 97,
      "outputs": [
        {
          "output_type": "display_data",
          "data": {
            "image/png": "[encoded data removed]",
            "text/plain": [
              "<Figure size 1080x360 with 1 Axes>"
            ]
          },
          "metadata": {
            "needs_background": "light"
          }
        },
        {
          "output_type": "display_data",
          "data": {
            "image/png": "[encoded data removed]",
            "text/plain": [
              "<Figure size 1080x360 with 1 Axes>"
            ]
          },
          "metadata": {
            "needs_background": "light"
          }
        }
      ]
    },
    {
      "cell_type": "markdown",
      "metadata": {
        "id": "4Jp8dDwpAxl2"
      },
      "source": [
        "### Testing"
      ]
    },
    {
      "cell_type": "code",
      "metadata": {
        "id": "9a4vOhiMrRzS",
        "colab": {
          "base_uri": "https://localhost:8080/"
        },
        "outputId": "6f5c9af8-f713-4513-9bdd-40b2bc685025"
      },
      "source": [
        "# Evaluate on test\n",
        "model_test_metrics = model.evaluate(test_gen, return_dict=True)\n",
        "\n",
        "print()\n",
        "print(model_test_metrics)"
      ],
      "execution_count": 93,
      "outputs": [
        {
          "output_type": "stream",
          "name": "stdout",
          "text": [
            "444/444 [==============================] - 426s 962ms/step - loss: 0.2606 - accuracy: 0.9386\n",
            "\n",
            "{'loss': 0.26057925820350647, 'accuracy': 0.9386261105537415}\n"
          ]
        }
      ]
    }
  ]
}