{
  "nbformat": 4,
  "nbformat_minor": 0,
  "metadata": {
    "colab": {
      "name": "batch_normalization.ipynb",
      "provenance": [],
      "collapsed_sections": []
    },
    "kernelspec": {
      "name": "python3",
      "display_name": "Python 3"
    },
    "language_info": {
      "name": "python"
    }
  },
  "cells": [
    {
      "cell_type": "code",
      "metadata": {
        "id": "5-35gnQG8yoS",
        "colab": {
          "base_uri": "https://localhost:8080/"
        },
        "outputId": "e5025ff1-2cef-42f7-f753-571ef35dcee5"
      },
      "source": [
        "from google.colab import drive\n",
        "drive.mount('/gdrive')"
      ],
      "execution_count": null,
      "outputs": [
        {
          "output_type": "stream",
          "name": "stdout",
          "text": [
            "Mounted at /gdrive\n"
          ]
        }
      ]
    },
    {
      "cell_type": "code",
      "metadata": {
        "id": "8-rJySmy835Y",
        "colab": {
          "base_uri": "https://localhost:8080/"
        },
        "outputId": "1ec3789b-21e7-4e19-ead8-c757b8d402ed"
      },
      "source": [
        "%cd /gdrive/MyDrive/AN2DL/Homework1/"
      ],
      "execution_count": null,
      "outputs": [
        {
          "output_type": "stream",
          "name": "stdout",
          "text": [
            "/gdrive/MyDrive/AN2DL/Homework1\n"
          ]
        }
      ]
    },
    {
      "cell_type": "markdown",
      "metadata": {
        "id": "7FUSNH_5Cmk-"
      },
      "source": [
        "### Import Libraries"
      ]
    },
    {
      "cell_type": "code",
      "metadata": {
        "id": "Kad8mvnp85ML",
        "colab": {
          "base_uri": "https://localhost:8080/"
        },
        "outputId": "4dc0dff3-4d71-4231-d462-20fcec49b572"
      },
      "source": [
        "import os\n",
        "import numpy as np\n",
        "import tensorflow as tf\n",
        "import random\n",
        "from PIL import Image\n",
        "import matplotlib.pyplot as plt\n",
        "\n",
        "tfk = tf.keras\n",
        "tfkl = tf.keras.layers\n",
        "print(tf.__version__)"
      ],
      "execution_count": null,
      "outputs": [
        {
          "output_type": "stream",
          "name": "stdout",
          "text": [
            "2.7.0\n"
          ]
        }
      ]
    },
    {
      "cell_type": "code",
      "metadata": {
        "colab": {
          "base_uri": "https://localhost:8080/"
        },
        "id": "adZDHtg0B-io",
        "outputId": "540fc177-d94c-4842-c119-f5bc72814e23"
      },
      "source": [
        "# Download and import visualkeras library\n",
        "!pip install visualkeras\n",
        "import visualkeras"
      ],
      "execution_count": null,
      "outputs": [
        {
          "output_type": "stream",
          "name": "stdout",
          "text": [
            "Collecting visualkeras\n",
            "  Downloading visualkeras-0.0.2-py3-none-any.whl (12 kB)\n",
            "Requirement already satisfied: numpy>=1.18.1 in /usr/local/lib/python3.7/dist-packages (from visualkeras) (1.19.5)\n",
            "Collecting aggdraw>=1.3.11\n",
            "  Downloading aggdraw-1.3.12-cp37-cp37m-manylinux2010_x86_64.whl (795 kB)\n",
            "\u001b[K     |████████████████████████████████| 795 kB 5.8 MB/s \n",
            "\u001b[?25hRequirement already satisfied: pillow>=6.2.0 in /usr/local/lib/python3.7/dist-packages (from visualkeras) (7.1.2)\n",
            "Installing collected packages: aggdraw, visualkeras\n",
            "Successfully installed aggdraw-1.3.12 visualkeras-0.0.2\n"
          ]
        }
      ]
    },
    {
      "cell_type": "markdown",
      "metadata": {
        "id": "UXVTscKNDD6E"
      },
      "source": [
        "### Set seed for reproducibility"
      ]
    },
    {
      "cell_type": "code",
      "metadata": {
        "id": "fC8b_ryv_5B2"
      },
      "source": [
        "# Random seed for reproducibility\n",
        "seed = 42\n",
        "\n",
        "random.seed(seed)\n",
        "os.environ['PYTHONHASHSEED'] = str(seed)\n",
        "np.random.seed(seed)\n",
        "tf.random.set_seed(seed)\n",
        "tf.compat.v1.set_random_seed(seed)"
      ],
      "execution_count": null,
      "outputs": []
    },
    {
      "cell_type": "markdown",
      "metadata": {
        "id": "1SzGSv5XDQdJ"
      },
      "source": [
        "### Leaf Dataset"
      ]
    },
    {
      "cell_type": "code",
      "metadata": {
        "id": "voCaRwS49Mol"
      },
      "source": [
        "full_dataset_dir = 'full_dataset'\n",
        "#!unzip dataset.zip\n",
        "#os.rename('training',full_dataset_dir)"
      ],
      "execution_count": null,
      "outputs": []
    },
    {
      "cell_type": "code",
      "metadata": {
        "id": "k6tofdD7RNPd"
      },
      "source": [
        "labels = ['Apple','Blueberry','Cherry','Corn','Grape','Orange','Peach','Pepper','Potato','Raspberry','Soybean','Squash','Strawberry','Tomato']"
      ],
      "execution_count": null,
      "outputs": []
    },
    {
      "cell_type": "code",
      "metadata": {
        "id": "jffHrZfA9O3m"
      },
      "source": [
        "# Plot example images from dataset\n",
        "num_row = len(labels)//2\n",
        "num_col = len(labels)//num_row\n",
        "fig, axes = plt.subplots(num_row, num_col, figsize=(2*num_row,15*num_col))\n",
        "for i in range(len(labels)):\n",
        "  if i < len(labels):\n",
        "    class_imgs = next(os.walk('{}/{}/'.format(full_dataset_dir, labels[i])))[2]\n",
        "    class_img = class_imgs[0]\n",
        "    img = Image.open('{}/{}/{}'.format(full_dataset_dir, labels[i], class_img))\n",
        "    ax = axes[i//num_col, i%num_col]\n",
        "    ax.imshow(np.array(img))\n",
        "    ax.set_title('{}'.format(labels[i]))\n",
        "plt.tight_layout()\n",
        "plt.show()"
      ],
      "execution_count": null,
      "outputs": []
    },
    {
      "cell_type": "markdown",
      "metadata": {
        "id": "qE0OYjwDUHeO"
      },
      "source": [
        "### Data Preprocessing\n",
        "\n",
        "Done in the other notebook"
      ]
    },
    {
      "cell_type": "markdown",
      "metadata": {
        "id": "g2ZxSFgNDcxb"
      },
      "source": [
        "### Data Loader"
      ]
    },
    {
      "cell_type": "code",
      "metadata": {
        "id": "57gAUPJ5CZeN"
      },
      "source": [
        "sub_dataset_dir = 'training_validation_testing'\n",
        "training_dir = os.path.join(sub_dataset_dir, 'training')\n",
        "validation_dir = os.path.join(sub_dataset_dir, 'validation')\n",
        "test_dir = os.path.join(sub_dataset_dir, 'testing')"
      ],
      "execution_count": null,
      "outputs": []
    },
    {
      "cell_type": "code",
      "metadata": {
        "id": "llN2rKFVDj66",
        "colab": {
          "base_uri": "https://localhost:8080/"
        },
        "outputId": "c4402da7-525b-44cd-fe1e-75b6d0a9d6cc"
      },
      "source": [
        "# Images are divided into folders, one for each class. \n",
        "# If the images are organized in such a way, we can exploit the \n",
        "# ImageDataGenerator to read them from disk.\n",
        "from tensorflow.keras.preprocessing.image import ImageDataGenerator\n",
        "\n",
        "# Create an instance of ImageDataGenerator for training, validation, and test sets\n",
        "train_data_gen = ImageDataGenerator(rescale=1/255.) # rescale value is multiplied to the image\n",
        "valid_data_gen = ImageDataGenerator(rescale=1/255.)\n",
        "test_data_gen = ImageDataGenerator(rescale=1/255.)\n",
        "\n",
        "# Obtain a data generator with the 'ImageDataGenerator.flow_from_directory' method\n",
        "train_gen = train_data_gen.flow_from_directory(directory=training_dir,\n",
        "                                               target_size=(256,256),\n",
        "                                               color_mode='rgb',\n",
        "                                               classes=None, # can be set to labels\n",
        "                                               class_mode='categorical',\n",
        "                                               batch_size=8,\n",
        "                                               shuffle=True,\n",
        "                                               seed=seed)\n",
        "\n",
        "valid_gen = train_data_gen.flow_from_directory(directory=validation_dir,\n",
        "                                               target_size=(256,256),\n",
        "                                               color_mode='rgb',\n",
        "                                               classes=None, # can be set to labels\n",
        "                                               class_mode='categorical',\n",
        "                                               batch_size=8,\n",
        "                                               shuffle=False,\n",
        "                                               seed=seed)\n",
        "\n",
        "test_gen = train_data_gen.flow_from_directory(directory=test_dir,\n",
        "                                              target_size=(256,256),\n",
        "                                              color_mode='rgb',\n",
        "                                              classes=None, # can be set to labels\n",
        "                                              class_mode='categorical',\n",
        "                                              batch_size=8,\n",
        "                                              shuffle=False,\n",
        "                                              seed=seed)"
      ],
      "execution_count": null,
      "outputs": [
        {
          "output_type": "stream",
          "name": "stdout",
          "text": [
            "Found 10629 images belonging to 14 classes.\n",
            "Found 3547 images belonging to 14 classes.\n",
            "Found 3552 images belonging to 14 classes.\n"
          ]
        }
      ]
    },
    {
      "cell_type": "code",
      "metadata": {
        "id": "OTe5DxLPHlDs",
        "colab": {
          "base_uri": "https://localhost:8080/"
        },
        "outputId": "ca9f5516-3f63-4c74-b2c0-3aa127ccc0f5"
      },
      "source": [
        "print(\"Assigned labels\")\n",
        "print(train_gen.class_indices)\n",
        "print()\n",
        "print(\"Target classes\")\n",
        "print(train_gen.classes)"
      ],
      "execution_count": null,
      "outputs": [
        {
          "output_type": "stream",
          "name": "stdout",
          "text": [
            "Assigned labels\n",
            "{'Apple': 0, 'Blueberry': 1, 'Cherry': 2, 'Corn': 3, 'Grape': 4, 'Orange': 5, 'Peach': 6, 'Pepper': 7, 'Potato': 8, 'Raspberry': 9, 'Soybean': 10, 'Squash': 11, 'Strawberry': 12, 'Tomato': 13}\n",
            "\n",
            "Target classes\n",
            "[ 0  0  0 ... 13 13 13]\n"
          ]
        }
      ]
    },
    {
      "cell_type": "markdown",
      "metadata": {
        "id": "OYVCeITzJGSv"
      },
      "source": [
        "### Model Metadata"
      ]
    },
    {
      "cell_type": "code",
      "metadata": {
        "id": "wxDSukBQJFZa"
      },
      "source": [
        "# Model configuration\n",
        "input_shape = (256, 256, 3)\n",
        "epochs = 100\n",
        "batch_size = 128\n",
        "n_classes = 14"
      ],
      "execution_count": null,
      "outputs": []
    },
    {
      "cell_type": "markdown",
      "metadata": {
        "id": "TEjoTVrlJMN-"
      },
      "source": [
        "### CNN Model"
      ]
    },
    {
      "cell_type": "markdown",
      "metadata": {
        "id": "4mDSltclL3Xn"
      },
      "source": [
        "* VGG style\n",
        "* Batch Norm\n",
        "* Early Stopping\n",
        "* Batch\n",
        "* Increasing Dropout"
      ]
    },
    {
      "cell_type": "code",
      "metadata": {
        "id": "DWPOW2KrJLbz"
      },
      "source": [
        "from tensorflow.keras.models import Sequential\n",
        "from tensorflow.keras.layers import Dense, Flatten\n",
        "from tensorflow.keras.layers import Conv2D, MaxPooling2D\n",
        "from tensorflow.keras.layers import BatchNormalization, Dropout\n",
        "\n",
        "# Model used for the exercise:\n",
        "# (Conv + Conv + ReLU + MaxPool) x 3 + FC x 2\n",
        "def build_model(input_shape):\n",
        "\n",
        "    # Build the neural network layer by layer\n",
        "    model = Sequential()\n",
        "    model.add(Conv2D(32, kernel_size=(3, 3), padding = 'same', activation='relu', input_shape=input_shape))\n",
        "    model.add(BatchNormalization())\n",
        "    model.add(Conv2D(32, kernel_size=(3, 3), padding = 'same', activation='relu'))\n",
        "    model.add(BatchNormalization())\n",
        "    model.add(MaxPooling2D(pool_size=(2, 2)))\n",
        "    model.add(Dropout(0.2))\n",
        "\n",
        "    model.add(Conv2D(64, kernel_size=(3, 3), padding = 'same', activation='relu'))\n",
        "    model.add(BatchNormalization())\n",
        "    model.add(Conv2D(64, kernel_size=(3, 3), padding = 'same', activation='relu'))\n",
        "    model.add(BatchNormalization())\n",
        "    model.add(MaxPooling2D(pool_size=(2, 2)))\n",
        "    model.add(Dropout(0.3))\n",
        "\n",
        "    model.add(Conv2D(128, kernel_size=(3, 3), padding = 'same', activation='relu'))\n",
        "    model.add(BatchNormalization())\n",
        "    model.add(Conv2D(128, kernel_size=(3, 3), padding = 'same', activation='relu'))\n",
        "    model.add(BatchNormalization())\n",
        "    model.add(MaxPooling2D(pool_size=(2, 2)))\n",
        "    model.add(Dropout(0.4))\n",
        "\n",
        "    model.add(Flatten())\n",
        "    model.add(Dense(128, activation='relu'))\n",
        "    model.add(BatchNormalization())\n",
        "    model.add(Dropout(0.5))\n",
        "    model.add(Dense(n_classes, activation='softmax'))\n",
        "\n",
        "    # Compile the model\n",
        "    model.compile(loss=tfk.losses.MeanSquaredError(), optimizer=tfk.optimizers.Adam(), metrics='accuracy')\n",
        "\n",
        "    # Return the model\n",
        "    return model"
      ],
      "execution_count": null,
      "outputs": []
    },
    {
      "cell_type": "code",
      "metadata": {
        "colab": {
          "base_uri": "https://localhost:8080/"
        },
        "id": "D1wCon5IJtEb",
        "outputId": "87ecd337-cf1b-4afb-8e79-bb6f495773da"
      },
      "source": [
        "# Build model\n",
        "model = build_model(input_shape)\n",
        "model.summary()"
      ],
      "execution_count": null,
      "outputs": [
        {
          "output_type": "stream",
          "name": "stdout",
          "text": [
            "Model: \"sequential_4\"\n",
            "_________________________________________________________________\n",
            " Layer (type)                Output Shape              Param #   \n",
            "=================================================================\n",
            " conv2d_20 (Conv2D)          (None, 256, 256, 32)      896       \n",
            "                                                                 \n",
            " batch_normalization_9 (Batc  (None, 256, 256, 32)     128       \n",
            " hNormalization)                                                 \n",
            "                                                                 \n",
            " conv2d_21 (Conv2D)          (None, 256, 256, 32)      9248      \n",
            "                                                                 \n",
            " batch_normalization_10 (Bat  (None, 256, 256, 32)     128       \n",
            " chNormalization)                                                \n",
            "                                                                 \n",
            " max_pooling2d_10 (MaxPoolin  (None, 128, 128, 32)     0         \n",
            " g2D)                                                            \n",
            "                                                                 \n",
            " dropout (Dropout)           (None, 128, 128, 32)      0         \n",
            "                                                                 \n",
            " conv2d_22 (Conv2D)          (None, 128, 128, 64)      18496     \n",
            "                                                                 \n",
            " batch_normalization_11 (Bat  (None, 128, 128, 64)     256       \n",
            " chNormalization)                                                \n",
            "                                                                 \n",
            " conv2d_23 (Conv2D)          (None, 128, 128, 64)      36928     \n",
            "                                                                 \n",
            " batch_normalization_12 (Bat  (None, 128, 128, 64)     256       \n",
            " chNormalization)                                                \n",
            "                                                                 \n",
            " max_pooling2d_11 (MaxPoolin  (None, 64, 64, 64)       0         \n",
            " g2D)                                                            \n",
            "                                                                 \n",
            " dropout_1 (Dropout)         (None, 64, 64, 64)        0         \n",
            "                                                                 \n",
            " conv2d_24 (Conv2D)          (None, 64, 64, 128)       73856     \n",
            "                                                                 \n",
            " batch_normalization_13 (Bat  (None, 64, 64, 128)      512       \n",
            " chNormalization)                                                \n",
            "                                                                 \n",
            " conv2d_25 (Conv2D)          (None, 64, 64, 128)       147584    \n",
            "                                                                 \n",
            " batch_normalization_14 (Bat  (None, 64, 64, 128)      512       \n",
            " chNormalization)                                                \n",
            "                                                                 \n",
            " max_pooling2d_12 (MaxPoolin  (None, 32, 32, 128)      0         \n",
            " g2D)                                                            \n",
            "                                                                 \n",
            " dropout_2 (Dropout)         (None, 32, 32, 128)       0         \n",
            "                                                                 \n",
            " flatten_3 (Flatten)         (None, 131072)            0         \n",
            "                                                                 \n",
            " dense_6 (Dense)             (None, 128)               16777344  \n",
            "                                                                 \n",
            " batch_normalization_15 (Bat  (None, 128)              512       \n",
            " chNormalization)                                                \n",
            "                                                                 \n",
            " dropout_3 (Dropout)         (None, 128)               0         \n",
            "                                                                 \n",
            " dense_7 (Dense)             (None, 14)                1806      \n",
            "                                                                 \n",
            "=================================================================\n",
            "Total params: 17,068,462\n",
            "Trainable params: 17,067,310\n",
            "Non-trainable params: 1,152\n",
            "_________________________________________________________________\n"
          ]
        }
      ]
    },
    {
      "cell_type": "code",
      "metadata": {
        "id": "IQB9t49ZLNvy"
      },
      "source": [
        "tfk.utils.plot_model(model)"
      ],
      "execution_count": null,
      "outputs": []
    },
    {
      "cell_type": "code",
      "metadata": {
        "colab": {
          "base_uri": "https://localhost:8080/",
          "height": 1000
        },
        "id": "8zHWyk5bLPsO",
        "outputId": "78f06959-26ac-42a8-ab30-6205f18b9d94"
      },
      "source": [
        "visualkeras.layered_view(model, legend=True, spacing=20, scale_xy=10)"
      ],
      "execution_count": null,
      "outputs": [
        {
          "output_type": "execute_result",
          "data": {
            "image/png": "[encoded data removed]",
            "text/plain": [
              "<PIL.Image.Image image mode=RGBA size=1637x2703 at 0x7FEC8761C550>"
            ]
          },
          "metadata": {},
          "execution_count": 42
        }
      ]
    },
    {
      "cell_type": "markdown",
      "metadata": {
        "id": "Ay2OLrM4EhOv"
      },
      "source": [
        "### Training"
      ]
    },
    {
      "cell_type": "code",
      "metadata": {
        "id": "QZaR4qPFDY53"
      },
      "source": [
        "# Utility function to create folders and callbacks for training\n",
        "from datetime import datetime\n",
        "\n",
        "def create_folders_and_callbacks(model_name):\n",
        "\n",
        "  exps_dir = os.path.join('models')\n",
        "  if not os.path.exists(exps_dir):\n",
        "      os.makedirs(exps_dir)\n",
        "\n",
        "  now = datetime.now().strftime('%b%d_%H-%M-%S')\n",
        "\n",
        "  exp_dir = os.path.join(exps_dir, model_name + '_' + str(now))\n",
        "  if not os.path.exists(exp_dir):\n",
        "      os.makedirs(exp_dir)\n",
        "      \n",
        "  callbacks = []\n",
        "\n",
        "  # Model checkpoint\n",
        "  # ----------------\n",
        "  ckpt_dir = os.path.join(exp_dir, 'ckpts')\n",
        "  if not os.path.exists(ckpt_dir):\n",
        "      os.makedirs(ckpt_dir)\n",
        "\n",
        "  ckpt_callback = tf.keras.callbacks.ModelCheckpoint(filepath=os.path.join(ckpt_dir, 'cp.ckpt'), \n",
        "                                                     save_weights_only=False, # True to save only weights\n",
        "                                                     save_best_only=False) # True to save only the best epoch \n",
        "  callbacks.append(ckpt_callback)\n",
        "\n",
        "  # Visualize Learning on Tensorboard\n",
        "  # ---------------------------------\n",
        "  tb_dir = os.path.join(exp_dir, 'tb_logs')\n",
        "  if not os.path.exists(tb_dir):\n",
        "      os.makedirs(tb_dir)\n",
        "      \n",
        "  # By default shows losses and metrics for both training and validation\n",
        "  tb_callback = tf.keras.callbacks.TensorBoard(log_dir=tb_dir, \n",
        "                                               profile_batch=0,\n",
        "                                               histogram_freq=1)  # if > 0 (epochs) shows weights histograms\n",
        "  callbacks.append(tb_callback)\n",
        "\n",
        "  # Early Stopping\n",
        "  # --------------\n",
        "  es_callback = tf.keras.callbacks.EarlyStopping(monitor='val_loss', patience=10, restore_best_weights=True)\n",
        "  callbacks.append(es_callback)\n",
        "\n",
        "  return callbacks"
      ],
      "execution_count": null,
      "outputs": []
    },
    {
      "cell_type": "code",
      "metadata": {
        "id": "CHkqrUCXJtkK",
        "colab": {
          "base_uri": "https://localhost:8080/"
        },
        "outputId": "1eb79c6c-58fc-4b66-c388-a49ab1691c93"
      },
      "source": [
        "# Create folders and callbacks and fit\n",
        "callbacks = create_folders_and_callbacks(model_name='CNN_full')\n",
        "\n",
        "# Train the model\n",
        "history = model.fit(\n",
        "    x = train_gen,\n",
        "    batch_size = batch_size,\n",
        "    epochs = epochs,\n",
        "    validation_data = valid_gen,\n",
        "    callbacks=[callbacks]\n",
        ").history"
      ],
      "execution_count": null,
      "outputs": [
        {
          "output_type": "stream",
          "name": "stdout",
          "text": [
            "Epoch 1/100\n",
            "1329/1329 [==============================] - ETA: 0s - loss: 0.0517 - accuracy: 0.4567INFO:tensorflow:Assets written to: models/CNN_full_Nov14_14-46-44/ckpts/cp.ckpt/assets\n",
            "1329/1329 [==============================] - 205s 153ms/step - loss: 0.0517 - accuracy: 0.4567 - val_loss: 0.0743 - val_accuracy: 0.3022\n",
            "Epoch 2/100\n",
            "1329/1329 [==============================] - ETA: 0s - loss: 0.0523 - accuracy: 0.4361INFO:tensorflow:Assets written to: models/CNN_full_Nov14_14-46-44/ckpts/cp.ckpt/assets\n",
            "1329/1329 [==============================] - 202s 152ms/step - loss: 0.0523 - accuracy: 0.4361 - val_loss: 0.0530 - val_accuracy: 0.4584\n",
            "Epoch 3/100\n",
            "1329/1329 [==============================] - ETA: 0s - loss: 0.0462 - accuracy: 0.5137INFO:tensorflow:Assets written to: models/CNN_full_Nov14_14-46-44/ckpts/cp.ckpt/assets\n",
            "1329/1329 [==============================] - 201s 151ms/step - loss: 0.0462 - accuracy: 0.5137 - val_loss: 0.0361 - val_accuracy: 0.6270\n",
            "Epoch 4/100\n",
            "1329/1329 [==============================] - ETA: 0s - loss: 0.0426 - accuracy: 0.5582INFO:tensorflow:Assets written to: models/CNN_full_Nov14_14-46-44/ckpts/cp.ckpt/assets\n",
            "1329/1329 [==============================] - 201s 151ms/step - loss: 0.0426 - accuracy: 0.5582 - val_loss: 0.0391 - val_accuracy: 0.6095\n",
            "Epoch 5/100\n",
            "1329/1329 [==============================] - ETA: 0s - loss: 0.0389 - accuracy: 0.5958INFO:tensorflow:Assets written to: models/CNN_full_Nov14_14-46-44/ckpts/cp.ckpt/assets\n",
            "1329/1329 [==============================] - 201s 151ms/step - loss: 0.0389 - accuracy: 0.5958 - val_loss: 0.0349 - val_accuracy: 0.6451\n",
            "Epoch 6/100\n",
            "1329/1329 [==============================] - ETA: 0s - loss: 0.0353 - accuracy: 0.6387INFO:tensorflow:Assets written to: models/CNN_full_Nov14_14-46-44/ckpts/cp.ckpt/assets\n",
            "1329/1329 [==============================] - 202s 152ms/step - loss: 0.0353 - accuracy: 0.6387 - val_loss: 0.0354 - val_accuracy: 0.6425\n",
            "Epoch 7/100\n",
            "1329/1329 [==============================] - ETA: 0s - loss: 0.0354 - accuracy: 0.6382INFO:tensorflow:Assets written to: models/CNN_full_Nov14_14-46-44/ckpts/cp.ckpt/assets\n",
            "1329/1329 [==============================] - 252s 190ms/step - loss: 0.0354 - accuracy: 0.6382 - val_loss: 0.0315 - val_accuracy: 0.6780\n",
            "Epoch 8/100\n",
            "1329/1329 [==============================] - ETA: 0s - loss: 0.0329 - accuracy: 0.6642INFO:tensorflow:Assets written to: models/CNN_full_Nov14_14-46-44/ckpts/cp.ckpt/assets\n",
            "1329/1329 [==============================] - 229s 172ms/step - loss: 0.0329 - accuracy: 0.6642 - val_loss: 0.0267 - val_accuracy: 0.7372\n",
            "Epoch 9/100\n",
            "1329/1329 [==============================] - ETA: 0s - loss: 0.0299 - accuracy: 0.6995INFO:tensorflow:Assets written to: models/CNN_full_Nov14_14-46-44/ckpts/cp.ckpt/assets\n",
            "1329/1329 [==============================] - 221s 167ms/step - loss: 0.0299 - accuracy: 0.6995 - val_loss: 0.0270 - val_accuracy: 0.7279\n",
            "Epoch 10/100\n",
            "1329/1329 [==============================] - ETA: 0s - loss: 0.0292 - accuracy: 0.7067INFO:tensorflow:Assets written to: models/CNN_full_Nov14_14-46-44/ckpts/cp.ckpt/assets\n",
            "1329/1329 [==============================] - 228s 172ms/step - loss: 0.0292 - accuracy: 0.7067 - val_loss: 0.0241 - val_accuracy: 0.7652\n",
            "Epoch 11/100\n",
            "1329/1329 [==============================] - ETA: 0s - loss: 0.0272 - accuracy: 0.7290INFO:tensorflow:Assets written to: models/CNN_full_Nov14_14-46-44/ckpts/cp.ckpt/assets\n",
            "1329/1329 [==============================] - 216s 163ms/step - loss: 0.0272 - accuracy: 0.7290 - val_loss: 0.0224 - val_accuracy: 0.7815\n",
            "Epoch 12/100\n",
            "1329/1329 [==============================] - ETA: 0s - loss: 0.0267 - accuracy: 0.7327INFO:tensorflow:Assets written to: models/CNN_full_Nov14_14-46-44/ckpts/cp.ckpt/assets\n",
            "1329/1329 [==============================] - 215s 162ms/step - loss: 0.0267 - accuracy: 0.7327 - val_loss: 0.0222 - val_accuracy: 0.7821\n",
            "Epoch 13/100\n",
            "1329/1329 [==============================] - ETA: 0s - loss: 0.0234 - accuracy: 0.7703INFO:tensorflow:Assets written to: models/CNN_full_Nov14_14-46-44/ckpts/cp.ckpt/assets\n",
            "1329/1329 [==============================] - 212s 159ms/step - loss: 0.0234 - accuracy: 0.7703 - val_loss: 0.0217 - val_accuracy: 0.7846\n",
            "Epoch 14/100\n",
            "1329/1329 [==============================] - ETA: 0s - loss: 0.0217 - accuracy: 0.7894INFO:tensorflow:Assets written to: models/CNN_full_Nov14_14-46-44/ckpts/cp.ckpt/assets\n",
            "1329/1329 [==============================] - 211s 159ms/step - loss: 0.0217 - accuracy: 0.7894 - val_loss: 0.0171 - val_accuracy: 0.8283\n",
            "Epoch 15/100\n",
            "1329/1329 [==============================] - ETA: 0s - loss: 0.0199 - accuracy: 0.8048INFO:tensorflow:Assets written to: models/CNN_full_Nov14_14-46-44/ckpts/cp.ckpt/assets\n",
            "1329/1329 [==============================] - 210s 158ms/step - loss: 0.0199 - accuracy: 0.8048 - val_loss: 0.0174 - val_accuracy: 0.8331\n",
            "Epoch 16/100\n",
            "1329/1329 [==============================] - ETA: 0s - loss: 0.0183 - accuracy: 0.8211INFO:tensorflow:Assets written to: models/CNN_full_Nov14_14-46-44/ckpts/cp.ckpt/assets\n",
            "1329/1329 [==============================] - 207s 156ms/step - loss: 0.0183 - accuracy: 0.8211 - val_loss: 0.0401 - val_accuracy: 0.5940\n",
            "Epoch 17/100\n",
            "1329/1329 [==============================] - ETA: 0s - loss: 0.0181 - accuracy: 0.8256INFO:tensorflow:Assets written to: models/CNN_full_Nov14_14-46-44/ckpts/cp.ckpt/assets\n",
            "1329/1329 [==============================] - 207s 155ms/step - loss: 0.0181 - accuracy: 0.8256 - val_loss: 0.0158 - val_accuracy: 0.8449\n",
            "Epoch 18/100\n",
            "1329/1329 [==============================] - ETA: 0s - loss: 0.0153 - accuracy: 0.8538INFO:tensorflow:Assets written to: models/CNN_full_Nov14_14-46-44/ckpts/cp.ckpt/assets\n",
            "1329/1329 [==============================] - 205s 154ms/step - loss: 0.0153 - accuracy: 0.8538 - val_loss: 0.0151 - val_accuracy: 0.8540\n",
            "Epoch 19/100\n",
            "1329/1329 [==============================] - ETA: 0s - loss: 0.0153 - accuracy: 0.8538INFO:tensorflow:Assets written to: models/CNN_full_Nov14_14-46-44/ckpts/cp.ckpt/assets\n",
            "1329/1329 [==============================] - 205s 154ms/step - loss: 0.0153 - accuracy: 0.8538 - val_loss: 0.0137 - val_accuracy: 0.8664\n",
            "Epoch 20/100\n",
            "1329/1329 [==============================] - ETA: 0s - loss: 0.0141 - accuracy: 0.8640INFO:tensorflow:Assets written to: models/CNN_full_Nov14_14-46-44/ckpts/cp.ckpt/assets\n",
            "1329/1329 [==============================] - 205s 154ms/step - loss: 0.0141 - accuracy: 0.8640 - val_loss: 0.0165 - val_accuracy: 0.8458\n",
            "Epoch 21/100\n",
            "1329/1329 [==============================] - ETA: 0s - loss: 0.0123 - accuracy: 0.8826INFO:tensorflow:Assets written to: models/CNN_full_Nov14_14-46-44/ckpts/cp.ckpt/assets\n",
            "1329/1329 [==============================] - 205s 154ms/step - loss: 0.0123 - accuracy: 0.8826 - val_loss: 0.0152 - val_accuracy: 0.8551\n",
            "Epoch 22/100\n",
            "1329/1329 [==============================] - ETA: 0s - loss: 0.0119 - accuracy: 0.8869INFO:tensorflow:Assets written to: models/CNN_full_Nov14_14-46-44/ckpts/cp.ckpt/assets\n",
            "1329/1329 [==============================] - 205s 154ms/step - loss: 0.0119 - accuracy: 0.8869 - val_loss: 0.0136 - val_accuracy: 0.8697\n",
            "Epoch 23/100\n",
            "1329/1329 [==============================] - ETA: 0s - loss: 0.0099 - accuracy: 0.9081INFO:tensorflow:Assets written to: models/CNN_full_Nov14_14-46-44/ckpts/cp.ckpt/assets\n",
            "1329/1329 [==============================] - 204s 153ms/step - loss: 0.0099 - accuracy: 0.9081 - val_loss: 0.0176 - val_accuracy: 0.8303\n",
            "Epoch 24/100\n",
            "1329/1329 [==============================] - ETA: 0s - loss: 0.0096 - accuracy: 0.9091INFO:tensorflow:Assets written to: models/CNN_full_Nov14_14-46-44/ckpts/cp.ckpt/assets\n",
            "1329/1329 [==============================] - 203s 153ms/step - loss: 0.0096 - accuracy: 0.9091 - val_loss: 0.0115 - val_accuracy: 0.8931\n",
            "Epoch 25/100\n",
            "1329/1329 [==============================] - ETA: 0s - loss: 0.0104 - accuracy: 0.9028INFO:tensorflow:Assets written to: models/CNN_full_Nov14_14-46-44/ckpts/cp.ckpt/assets\n",
            "1329/1329 [==============================] - 202s 152ms/step - loss: 0.0104 - accuracy: 0.9028 - val_loss: 0.0267 - val_accuracy: 0.7488\n",
            "Epoch 26/100\n",
            "1329/1329 [==============================] - ETA: 0s - loss: 0.0111 - accuracy: 0.8953INFO:tensorflow:Assets written to: models/CNN_full_Nov14_14-46-44/ckpts/cp.ckpt/assets\n",
            "1329/1329 [==============================] - 251s 188ms/step - loss: 0.0111 - accuracy: 0.8953 - val_loss: 0.0153 - val_accuracy: 0.8531\n",
            "Epoch 27/100\n",
            "1329/1329 [==============================] - ETA: 0s - loss: 0.0087 - accuracy: 0.9198INFO:tensorflow:Assets written to: models/CNN_full_Nov14_14-46-44/ckpts/cp.ckpt/assets\n",
            "1329/1329 [==============================] - 261s 196ms/step - loss: 0.0087 - accuracy: 0.9198 - val_loss: 0.0120 - val_accuracy: 0.8830\n",
            "Epoch 28/100\n",
            "1329/1329 [==============================] - ETA: 0s - loss: 0.0079 - accuracy: 0.9262INFO:tensorflow:Assets written to: models/CNN_full_Nov14_14-46-44/ckpts/cp.ckpt/assets\n",
            "1329/1329 [==============================] - 240s 181ms/step - loss: 0.0079 - accuracy: 0.9262 - val_loss: 0.0116 - val_accuracy: 0.8900\n",
            "Epoch 29/100\n",
            "1329/1329 [==============================] - ETA: 0s - loss: 0.0072 - accuracy: 0.9346INFO:tensorflow:Assets written to: models/CNN_full_Nov14_14-46-44/ckpts/cp.ckpt/assets\n",
            "1329/1329 [==============================] - 228s 171ms/step - loss: 0.0072 - accuracy: 0.9346 - val_loss: 0.0115 - val_accuracy: 0.8931\n",
            "Epoch 30/100\n",
            "1329/1329 [==============================] - ETA: 0s - loss: 0.0081 - accuracy: 0.9247INFO:tensorflow:Assets written to: models/CNN_full_Nov14_14-46-44/ckpts/cp.ckpt/assets\n",
            "1329/1329 [==============================] - 220s 166ms/step - loss: 0.0081 - accuracy: 0.9247 - val_loss: 0.0118 - val_accuracy: 0.8903\n",
            "Epoch 31/100\n",
            "1329/1329 [==============================] - ETA: 0s - loss: 0.0075 - accuracy: 0.9319INFO:tensorflow:Assets written to: models/CNN_full_Nov14_14-46-44/ckpts/cp.ckpt/assets\n",
            "1329/1329 [==============================] - 224s 168ms/step - loss: 0.0075 - accuracy: 0.9319 - val_loss: 0.0112 - val_accuracy: 0.8948\n",
            "Epoch 32/100\n",
            "1329/1329 [==============================] - ETA: 0s - loss: 0.0077 - accuracy: 0.9268INFO:tensorflow:Assets written to: models/CNN_full_Nov14_14-46-44/ckpts/cp.ckpt/assets\n",
            "1329/1329 [==============================] - 215s 162ms/step - loss: 0.0077 - accuracy: 0.9268 - val_loss: 0.0106 - val_accuracy: 0.9022\n",
            "Epoch 33/100\n",
            "1329/1329 [==============================] - ETA: 0s - loss: 0.0070 - accuracy: 0.9343INFO:tensorflow:Assets written to: models/CNN_full_Nov14_14-46-44/ckpts/cp.ckpt/assets\n",
            "1329/1329 [==============================] - 213s 160ms/step - loss: 0.0070 - accuracy: 0.9343 - val_loss: 0.0104 - val_accuracy: 0.9044\n",
            "Epoch 34/100\n",
            "1329/1329 [==============================] - ETA: 0s - loss: 0.0055 - accuracy: 0.9483INFO:tensorflow:Assets written to: models/CNN_full_Nov14_14-46-44/ckpts/cp.ckpt/assets\n",
            "1329/1329 [==============================] - 211s 159ms/step - loss: 0.0055 - accuracy: 0.9483 - val_loss: 0.0110 - val_accuracy: 0.8979\n",
            "Epoch 35/100\n",
            "1329/1329 [==============================] - ETA: 0s - loss: 0.0050 - accuracy: 0.9549INFO:tensorflow:Assets written to: models/CNN_full_Nov14_14-46-44/ckpts/cp.ckpt/assets\n",
            "1329/1329 [==============================] - 209s 158ms/step - loss: 0.0050 - accuracy: 0.9549 - val_loss: 0.0097 - val_accuracy: 0.9120\n",
            "Epoch 36/100\n",
            "1329/1329 [==============================] - ETA: 0s - loss: 0.0054 - accuracy: 0.9498INFO:tensorflow:Assets written to: models/CNN_full_Nov14_14-46-44/ckpts/cp.ckpt/assets\n",
            "1329/1329 [==============================] - 206s 155ms/step - loss: 0.0054 - accuracy: 0.9498 - val_loss: 0.0124 - val_accuracy: 0.8853\n",
            "Epoch 37/100\n",
            "1329/1329 [==============================] - ETA: 0s - loss: 0.0045 - accuracy: 0.9565INFO:tensorflow:Assets written to: models/CNN_full_Nov14_14-46-44/ckpts/cp.ckpt/assets\n",
            "1329/1329 [==============================] - 205s 154ms/step - loss: 0.0045 - accuracy: 0.9565 - val_loss: 0.0117 - val_accuracy: 0.8931\n",
            "Epoch 38/100\n",
            "1329/1329 [==============================] - ETA: 0s - loss: 0.0051 - accuracy: 0.9524INFO:tensorflow:Assets written to: models/CNN_full_Nov14_14-46-44/ckpts/cp.ckpt/assets\n",
            "1329/1329 [==============================] - 205s 154ms/step - loss: 0.0051 - accuracy: 0.9524 - val_loss: 0.0107 - val_accuracy: 0.8999\n",
            "Epoch 39/100\n",
            "1329/1329 [==============================] - ETA: 0s - loss: 0.0046 - accuracy: 0.9581INFO:tensorflow:Assets written to: models/CNN_full_Nov14_14-46-44/ckpts/cp.ckpt/assets\n",
            "1329/1329 [==============================] - 206s 155ms/step - loss: 0.0046 - accuracy: 0.9581 - val_loss: 0.0103 - val_accuracy: 0.9067\n",
            "Epoch 40/100\n",
            "1329/1329 [==============================] - ETA: 0s - loss: 0.0043 - accuracy: 0.9597INFO:tensorflow:Assets written to: models/CNN_full_Nov14_14-46-44/ckpts/cp.ckpt/assets\n",
            "1329/1329 [==============================] - 205s 154ms/step - loss: 0.0043 - accuracy: 0.9597 - val_loss: 0.0123 - val_accuracy: 0.8886\n",
            "Epoch 41/100\n",
            "1329/1329 [==============================] - ETA: 0s - loss: 0.0044 - accuracy: 0.9601INFO:tensorflow:Assets written to: models/CNN_full_Nov14_14-46-44/ckpts/cp.ckpt/assets\n",
            "1329/1329 [==============================] - 205s 154ms/step - loss: 0.0044 - accuracy: 0.9601 - val_loss: 0.0111 - val_accuracy: 0.9025\n",
            "Epoch 42/100\n",
            "1329/1329 [==============================] - ETA: 0s - loss: 0.0038 - accuracy: 0.9644INFO:tensorflow:Assets written to: models/CNN_full_Nov14_14-46-44/ckpts/cp.ckpt/assets\n",
            "1329/1329 [==============================] - 206s 155ms/step - loss: 0.0038 - accuracy: 0.9644 - val_loss: 0.0165 - val_accuracy: 0.8523\n",
            "Epoch 43/100\n",
            "1329/1329 [==============================] - ETA: 0s - loss: 0.0037 - accuracy: 0.9674INFO:tensorflow:Assets written to: models/CNN_full_Nov14_14-46-44/ckpts/cp.ckpt/assets\n",
            "1329/1329 [==============================] - 205s 154ms/step - loss: 0.0037 - accuracy: 0.9674 - val_loss: 0.0114 - val_accuracy: 0.8971\n",
            "Epoch 44/100\n",
            "1329/1329 [==============================] - ETA: 0s - loss: 0.0036 - accuracy: 0.9657INFO:tensorflow:Assets written to: models/CNN_full_Nov14_14-46-44/ckpts/cp.ckpt/assets\n",
            "1329/1329 [==============================] - 203s 153ms/step - loss: 0.0036 - accuracy: 0.9657 - val_loss: 0.0110 - val_accuracy: 0.8988\n",
            "Epoch 45/100\n",
            "1329/1329 [==============================] - ETA: 0s - loss: 0.0036 - accuracy: 0.9664INFO:tensorflow:Assets written to: models/CNN_full_Nov14_14-46-44/ckpts/cp.ckpt/assets\n",
            "1329/1329 [==============================] - 204s 153ms/step - loss: 0.0036 - accuracy: 0.9664 - val_loss: 0.0115 - val_accuracy: 0.9005\n"
          ]
        }
      ]
    },
    {
      "cell_type": "code",
      "metadata": {
        "colab": {
          "base_uri": "https://localhost:8080/"
        },
        "id": "kMiuNBj3GusE",
        "outputId": "8a9728a3-872b-4a1b-9f4a-10a4683e59d1"
      },
      "source": [
        "# Save best epoch model\n",
        "model.save(\"models/CNN_full_best_\" + str(datetime.now().strftime('%b%d_%H-%M-%S')))"
      ],
      "execution_count": null,
      "outputs": [
        {
          "output_type": "stream",
          "name": "stdout",
          "text": [
            "INFO:tensorflow:Assets written to: models/CNN_full_best_Nov14_17-26-57/assets\n"
          ]
        }
      ]
    },
    {
      "cell_type": "code",
      "metadata": {
        "colab": {
          "base_uri": "https://localhost:8080/",
          "height": 336
        },
        "id": "R87QR5kMAr-A",
        "outputId": "1c48a519-1c85-4e43-eb58-7770910e9905"
      },
      "source": [
        "# Plot the training\n",
        "plt.figure(figsize=(15,5))\n",
        "plt.plot(history['loss'], label='Training', alpha=.8, color='#ff7f0e')\n",
        "plt.plot(history['val_loss'], label='Validation', alpha=.8, color='#4D61E2')\n",
        "plt.ylim(0, 1)\n",
        "plt.title('Mean Squared Error')\n",
        "plt.legend(loc='upper right')\n",
        "plt.grid(alpha=.3)\n",
        "\n",
        "plt.show()"
      ],
      "execution_count": null,
      "outputs": [
        {
          "output_type": "display_data",
          "data": {
            "image/png": "[encoded data removed]",
            "text/plain": [
              "<Figure size 1080x360 with 1 Axes>"
            ]
          },
          "metadata": {
            "needs_background": "light"
          }
        }
      ]
    },
    {
      "cell_type": "markdown",
      "metadata": {
        "id": "4Jp8dDwpAxl2"
      },
      "source": [
        "### Testing"
      ]
    },
    {
      "cell_type": "code",
      "metadata": {
        "colab": {
          "base_uri": "https://localhost:8080/"
        },
        "id": "9a4vOhiMrRzS",
        "outputId": "3a083470-939d-4625-8942-b9c65ff0edb9"
      },
      "source": [
        "# Evaluate on test\n",
        "# baseline\n",
        "model_test_metrics = model.evaluate(test_gen, return_dict=True)\n",
        "\n",
        "print()\n",
        "print(model_test_metrics)"
      ],
      "execution_count": null,
      "outputs": [
        {
          "output_type": "stream",
          "name": "stdout",
          "text": [
            "444/444 [==============================] - 22s 49ms/step - loss: 0.0296 - accuracy: 0.7759\n",
            "\n",
            "{'loss': 0.029589764773845673, 'accuracy': 0.7759009003639221}\n"
          ]
        }
      ]
    },
    {
      "cell_type": "code",
      "metadata": {
        "colab": {
          "base_uri": "https://localhost:8080/"
        },
        "id": "m-2Cg_bBronm",
        "outputId": "4dbe41cb-4aa9-4784-b22e-431e6c20f8fe"
      },
      "source": [
        "# Evaluate on test\n",
        "# batch norm and early stopping\n",
        "model_test_metrics = model.evaluate(test_gen, return_dict=True)\n",
        "\n",
        "print()\n",
        "print(model_test_metrics)"
      ],
      "execution_count": null,
      "outputs": [
        {
          "output_type": "stream",
          "name": "stdout",
          "text": [
            "444/444 [==============================] - 20s 46ms/step - loss: 0.0148 - accuracy: 0.8649\n",
            "\n",
            "{'loss': 0.01480927411466837, 'accuracy': 0.8648648858070374}\n"
          ]
        }
      ]
    },
    {
      "cell_type": "code",
      "metadata": {
        "colab": {
          "base_uri": "https://localhost:8080/"
        },
        "id": "nY4bCNW46lXV",
        "outputId": "85fbafad-ca98-46c5-81d5-5df80beb8a05"
      },
      "source": [
        "# Evaluate on test\n",
        "# batch norm, early stopping, dropout\n",
        "model_test_metrics = model.evaluate(test_gen, return_dict=True)\n",
        "\n",
        "print()\n",
        "print(model_test_metrics)"
      ],
      "execution_count": null,
      "outputs": [
        {
          "output_type": "stream",
          "name": "stdout",
          "text": [
            "444/444 [==============================] - 60s 135ms/step - loss: 0.0102 - accuracy: 0.9071\n",
            "\n",
            "{'loss': 0.010151666589081287, 'accuracy': 0.9070945978164673}\n"
          ]
        }
      ]
    }
  ]
}
