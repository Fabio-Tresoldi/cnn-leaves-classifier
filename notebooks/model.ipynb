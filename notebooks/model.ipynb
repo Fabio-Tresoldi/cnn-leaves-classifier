{
  "nbformat": 4,
  "nbformat_minor": 0,
  "metadata": {
    "kernelspec": {
      "language": "python",
      "display_name": "Python 3",
      "name": "python3"
    },
    "language_info": {
      "pygments_lexer": "ipython3",
      "nbconvert_exporter": "python",
      "version": "3.6.4",
      "file_extension": ".py",
      "codemirror_mode": {
        "name": "ipython",
        "version": 3
      },
      "name": "python",
      "mimetype": "text/x-python"
    },
    "colab": {
      "name": "Model.ipynb",
      "provenance": [],
      "collapsed_sections": [],
      "toc_visible": true
    }
  },
  "cells": [
    {
      "cell_type": "markdown",
      "metadata": {
        "id": "wP7k822DQC5u"
      },
      "source": [
        "# **Convolutional Neural Network: Leaves Classification**\n",
        "**Artificial  Neural  Networks  and  Deep  Learning  -  a.y.  2021/2022**\n",
        "\n",
        "*     <u>Fabio Tresoldi</u>\n",
        "> M.Sc. Computer Science and EngineeringPolitecnico di Milano - Milan, Italy\n",
        ">\n",
        "> E-mail: fabio1.tresoldi@mail.polimi.it\n",
        ">\n",
        "> Student ID : 10607540\n",
        ">\n",
        "> Codalab Nickname: \"fabioow\"\n",
        ">\n",
        "> Codalab Group: \"artificial_comrades\"\n",
        "\n",
        "*     <u>Mirko  Usuelli</u>\n",
        "> M.Sc. Computer Science and EngineeringPolitecnico di Milano - Milan, Italy\n",
        ">\n",
        ">E-mail: mirko.usuelli@mail.polimi.it\n",
        ">\n",
        ">Student ID : 10570238\n",
        ">\n",
        ">Codalab Nickname: \"mirko\"\n",
        ">\n",
        ">Codalab Group: \"artificial_comrades\"\n"
      ]
    },
    {
      "cell_type": "markdown",
      "metadata": {
        "id": "hsXz12ot7PBB",
        "papermill": {
          "duration": 0.016147,
          "end_time": "2021-11-20T17:49:08.622142",
          "exception": false,
          "start_time": "2021-11-20T17:49:08.605995",
          "status": "completed"
        },
        "tags": []
      },
      "source": [
        "## Environment settings"
      ]
    },
    {
      "cell_type": "markdown",
      "metadata": {
        "id": "-PoKdpXXtab1",
        "papermill": {
          "duration": 0.01613,
          "end_time": "2021-11-20T17:49:08.654787",
          "exception": false,
          "start_time": "2021-11-20T17:49:08.638657",
          "status": "completed"
        },
        "tags": []
      },
      "source": [
        "### Libraries"
      ]
    },
    {
      "cell_type": "code",
      "metadata": {
        "id": "fVT6JS9FvzwC",
        "papermill": {
          "duration": 5.708461,
          "end_time": "2021-11-20T17:49:14.379517",
          "exception": false,
          "start_time": "2021-11-20T17:49:08.671056",
          "status": "completed"
        },
        "tags": [],
        "trusted": true
      },
      "source": [
        "import os\n",
        "import random\n",
        "import numpy as np\n",
        "import seaborn as sns\n",
        "import tensorflow as tf\n",
        "import matplotlib.pyplot as plt\n",
        "\n",
        "from tensorflow.keras.preprocessing.image import ImageDataGenerator\n",
        "from tensorflow.keras.applications.efficientnet import preprocess_input\n",
        "\n",
        "from sklearn.metrics import confusion_matrix\n",
        "from sklearn.metrics import accuracy_score, f1_score, precision_score, recall_score\n",
        "\n",
        "tfk = tf.keras\n",
        "tfkl = tf.keras.layers\n",
        "\n",
        "print(tf.__version__)"
      ],
      "execution_count": null,
      "outputs": []
    },
    {
      "cell_type": "markdown",
      "metadata": {
        "id": "T4Q-CAiNtnRP",
        "papermill": {
          "duration": 0.016521,
          "end_time": "2021-11-20T17:49:14.414332",
          "exception": false,
          "start_time": "2021-11-20T17:49:14.397811",
          "status": "completed"
        },
        "tags": []
      },
      "source": [
        "### Random seed"
      ]
    },
    {
      "cell_type": "code",
      "metadata": {
        "id": "lJfQgW-bto8I",
        "papermill": {
          "duration": 0.023548,
          "end_time": "2021-11-20T17:49:14.454695",
          "exception": false,
          "start_time": "2021-11-20T17:49:14.431147",
          "status": "completed"
        },
        "tags": [],
        "trusted": true
      },
      "source": [
        "# Random seed for reproducibility\n",
        "SEED = 42\n",
        "\n",
        "random.seed(SEED)\n",
        "os.environ['PYTHONHASHSEED'] = str(SEED)\n",
        "np.random.seed(SEED)\n",
        "tf.random.set_seed(SEED)\n",
        "tf.compat.v1.set_random_seed(SEED)"
      ],
      "execution_count": null,
      "outputs": []
    },
    {
      "cell_type": "markdown",
      "metadata": {
        "id": "y_Se8BRcRQXn"
      },
      "source": [
        "## EfficientNet B0 Fine Tuning"
      ]
    },
    {
      "cell_type": "markdown",
      "metadata": {
        "id": "Ez0i-LPpPynF"
      },
      "source": [
        "### Metadata"
      ]
    },
    {
      "cell_type": "code",
      "metadata": {
        "id": "72TxDCRj88ro",
        "papermill": {
          "duration": 0.036088,
          "end_time": "2021-11-20T17:49:16.981449",
          "exception": false,
          "start_time": "2021-11-20T17:49:16.945361",
          "status": "completed"
        },
        "tags": [],
        "trusted": true
      },
      "source": [
        "# Labels\n",
        "LABELS = ['Apple','Blueberry','Cherry','Corn','Grape','Orange','Peach','Pepper','Potato','Raspberry','Soybean','Squash','Strawberry','Tomato']"
      ],
      "execution_count": null,
      "outputs": []
    },
    {
      "cell_type": "code",
      "metadata": {
        "id": "ZTORqKWWzu-0",
        "papermill": {
          "duration": 0.035083,
          "end_time": "2021-11-20T17:49:17.043733",
          "exception": false,
          "start_time": "2021-11-20T17:49:17.00865",
          "status": "completed"
        },
        "tags": [],
        "trusted": true
      },
      "source": [
        "# Model hyperparameters\n",
        "INPUT_SHAPE = (256, 256, 3)\n",
        "IMAGE_SIZE = (INPUT_SHAPE[0], INPUT_SHAPE[1])\n",
        "EPOCHS = 100\n",
        "BATCH_SIZE = 32\n",
        "LEARNING_RATE = 1e-4\n",
        "NUM_CLASSES = len(LABELS)\n",
        "MODEL_NAME = \"cnn\""
      ],
      "execution_count": null,
      "outputs": []
    },
    {
      "cell_type": "markdown",
      "metadata": {
        "id": "Ix1cVRCF7Svm",
        "papermill": {
          "duration": 0.016463,
          "end_time": "2021-11-20T17:49:14.488093",
          "exception": false,
          "start_time": "2021-11-20T17:49:14.47163",
          "status": "completed"
        },
        "tags": []
      },
      "source": [
        "### Data Loader\n",
        "This notebook assumes to have a dataset already divided into the usual subsets (i.e. training, validation, testing).\n",
        "This is because we decided to split the dataset *offline* (i.e. by using a python script in our local machines, see `Data_Splitter.ipynb`).\n",
        "\n",
        "This solution has been adopted so we could use `ImageDataGenerator` for the pre-processing and the augmentation of the images as seen during the course. Moreover, since the dataset has unbalanced classes, a stratified split has been applied."
      ]
    },
    {
      "cell_type": "code",
      "metadata": {
        "id": "fN5i13swxHia",
        "papermill": {
          "duration": 0.023129,
          "end_time": "2021-11-20T17:49:14.52824",
          "exception": false,
          "start_time": "2021-11-20T17:49:14.505111",
          "status": "completed"
        },
        "tags": [],
        "trusted": true
      },
      "source": [
        "# Paths\n",
        "ROOT_PATH = 'leaf_dataset_splitted/' # The name of the directory cotaining the splitted dataset, it should be in the same directory of this notebook\n",
        "TRAINING_DIR = os.path.join(ROOT_PATH, 'training')\n",
        "VALIDATION_DIR = os.path.join(ROOT_PATH, 'validation')\n",
        "TESTING_DIR = os.path.join(ROOT_PATH, 'testing')"
      ],
      "execution_count": null,
      "outputs": []
    },
    {
      "cell_type": "markdown",
      "metadata": {
        "id": "Rvwrd5Zz8rmC",
        "papermill": {
          "duration": 0.016625,
          "end_time": "2021-11-20T17:49:14.561457",
          "exception": false,
          "start_time": "2021-11-20T17:49:14.544832",
          "status": "completed"
        },
        "tags": []
      },
      "source": [
        "### Data Pre-Processing and Augmentation\n",
        "*     Pre-Processing with `tensorflow.keras.applications.efficientnet.preprocess_input`\n",
        "*     Augmentation with `ImageDataGenerator`\n",
        "\n",
        "\n",
        "\n"
      ]
    },
    {
      "cell_type": "markdown",
      "metadata": {
        "id": "-DDOJSRiu2fU",
        "papermill": {
          "duration": 0.016941,
          "end_time": "2021-11-20T17:49:14.595128",
          "exception": false,
          "start_time": "2021-11-20T17:49:14.578187",
          "status": "completed"
        },
        "tags": []
      },
      "source": [
        "#### Image Generators"
      ]
    },
    {
      "cell_type": "markdown",
      "metadata": {
        "id": "3L1f-wyeuG9I",
        "papermill": {
          "duration": 0.016374,
          "end_time": "2021-11-20T17:49:14.62818",
          "exception": false,
          "start_time": "2021-11-20T17:49:14.611806",
          "status": "completed"
        },
        "tags": []
      },
      "source": [
        "##### Training set"
      ]
    },
    {
      "cell_type": "code",
      "metadata": {
        "id": "7CU5gtn_mWeR",
        "papermill": {
          "duration": 1.774902,
          "end_time": "2021-11-20T17:49:16.463602",
          "exception": false,
          "start_time": "2021-11-20T17:49:14.6887",
          "status": "completed"
        },
        "tags": [],
        "trusted": true
      },
      "source": [
        "# Constructor\n",
        "train_data_gen = ImageDataGenerator(\n",
        "    # Data Augmentation\n",
        "    rotation_range=30,\n",
        "    height_shift_range=50,\n",
        "    width_shift_range=50,\n",
        "    zoom_range=0.3,\n",
        "    horizontal_flip=True,\n",
        "    vertical_flip=True,\n",
        "    brightness_range=[0.7,1.3],\n",
        "    fill_mode='reflect',\n",
        "    preprocessing_function=preprocess_input\n",
        ")\n",
        "\n",
        "# Generator\n",
        "train_gen = train_data_gen.flow_from_directory(\n",
        "    directory=TRAINING_DIR,\n",
        "    target_size=IMAGE_SIZE,\n",
        "    color_mode='rgb',\n",
        "    classes=None,\n",
        "    class_mode='categorical',\n",
        "    batch_size=BATCH_SIZE,\n",
        "    shuffle=True,\n",
        "    seed=SEED\n",
        ")"
      ],
      "execution_count": null,
      "outputs": []
    },
    {
      "cell_type": "markdown",
      "metadata": {
        "id": "fek6lP2Tqv4e",
        "papermill": {
          "duration": 0.017489,
          "end_time": "2021-11-20T17:49:16.499489",
          "exception": false,
          "start_time": "2021-11-20T17:49:16.482",
          "status": "completed"
        },
        "tags": []
      },
      "source": [
        "##### Validation set"
      ]
    },
    {
      "cell_type": "code",
      "metadata": {
        "id": "g5tB0i1crCoB",
        "papermill": {
          "duration": 0.348105,
          "end_time": "2021-11-20T17:49:16.864629",
          "exception": false,
          "start_time": "2021-11-20T17:49:16.516524",
          "status": "completed"
        },
        "tags": [],
        "trusted": true
      },
      "source": [
        "# Constructor\n",
        "valid_data_gen = ImageDataGenerator(\n",
        "    preprocessing_function=preprocess_input\n",
        ")\n",
        "\n",
        "# Generator\n",
        "valid_gen = valid_data_gen.flow_from_directory(\n",
        "    directory=VALIDATION_DIR,\n",
        "    target_size=IMAGE_SIZE,\n",
        "    color_mode='rgb',\n",
        "    classes=None,\n",
        "    class_mode='categorical',\n",
        "    batch_size=BATCH_SIZE,\n",
        "    shuffle=True,\n",
        "    seed=SEED\n",
        ")"
      ],
      "execution_count": null,
      "outputs": []
    },
    {
      "cell_type": "markdown",
      "metadata": {
        "id": "bomlqBOlPEnm"
      },
      "source": [
        "##### Testing set"
      ]
    },
    {
      "cell_type": "code",
      "metadata": {
        "id": "e85ob5q1PEnn"
      },
      "source": [
        "# Constructor\n",
        "test_data_gen = ImageDataGenerator(\n",
        "    preprocessing_function=preprocess_input\n",
        ")\n",
        "\n",
        "# Generator\n",
        "test_gen = test_data_gen.flow_from_directory(\n",
        "    directory=TESTING_DIR,\n",
        "    target_size=IMAGE_SIZE,\n",
        "    color_mode='rgb',\n",
        "    classes=None,\n",
        "    class_mode='categorical',\n",
        "    batch_size=BATCH_SIZE,\n",
        "    shuffle=False,\n",
        "    seed=SEED\n",
        ")"
      ],
      "execution_count": null,
      "outputs": []
    },
    {
      "cell_type": "markdown",
      "metadata": {
        "id": "_Nuy88eiyZVA",
        "papermill": {
          "duration": 0.025986,
          "end_time": "2021-11-20T17:49:16.918065",
          "exception": false,
          "start_time": "2021-11-20T17:49:16.892079",
          "status": "completed"
        },
        "tags": []
      },
      "source": [
        "### Model Design"
      ]
    },
    {
      "cell_type": "markdown",
      "metadata": {
        "id": "KC1R2UoeP16s"
      },
      "source": [
        "#### Utilities"
      ]
    },
    {
      "cell_type": "code",
      "metadata": {
        "id": "9hBriTOK51E7",
        "papermill": {
          "duration": 0.069041,
          "end_time": "2021-11-20T17:49:25.665539",
          "exception": false,
          "start_time": "2021-11-20T17:49:25.596498",
          "status": "completed"
        },
        "tags": [],
        "trusted": true
      },
      "source": [
        "# Utility function to create folders and callbacks for training\n",
        "def create_folders_and_callbacks(model_name):\n",
        "\n",
        "  exps_dir = os.path.join('models')\n",
        "  if not os.path.exists(exps_dir):\n",
        "      os.makedirs(exps_dir)\n",
        "\n",
        "  exp_dir = os.path.join(exps_dir, model_name)\n",
        "  if not os.path.exists(exp_dir):\n",
        "      os.makedirs(exp_dir)\n",
        "      \n",
        "  callbacks = []\n",
        "\n",
        "  # Model checkpoint\n",
        "  # ----------------\n",
        "  ckpt_dir = os.path.join(exp_dir, 'ckpts')\n",
        "  if not os.path.exists(ckpt_dir):\n",
        "      os.makedirs(ckpt_dir)\n",
        "\n",
        "  ckpt_callback = tf.keras.callbacks.ModelCheckpoint(filepath=os.path.join(ckpt_dir, 'cp.ckpt'), \n",
        "                                                     save_weights_only=False, # True to save only weights\n",
        "                                                     save_best_only=False) # True to save only the best epoch \n",
        "  callbacks.append(ckpt_callback)\n",
        "\n",
        "  # Early Stopping\n",
        "  # --------------\n",
        "  es_callback = tf.keras.callbacks.EarlyStopping(monitor='val_loss', patience=10, restore_best_weights=True)\n",
        "  callbacks.append(es_callback)\n",
        "\n",
        "  return callbacks"
      ],
      "execution_count": null,
      "outputs": []
    },
    {
      "cell_type": "markdown",
      "metadata": {
        "id": "16q_PXiOPEnq"
      },
      "source": [
        "#### Fine Tuning Model\n",
        "\n"
      ]
    },
    {
      "cell_type": "markdown",
      "metadata": {
        "id": "8Iqu8YD3b7aH"
      },
      "source": [
        "##### Download EfficientNet B0"
      ]
    },
    {
      "cell_type": "code",
      "metadata": {
        "id": "9O_I-4eQsfPX",
        "papermill": {
          "duration": 7.032002,
          "end_time": "2021-11-20T17:49:24.105249",
          "exception": false,
          "start_time": "2021-11-20T17:49:17.073247",
          "status": "completed"
        },
        "tags": [],
        "trusted": true
      },
      "source": [
        "# Download and plot the EfficientNet B0 model\n",
        "supernet = tfk.applications.EfficientNetB0(\n",
        "    include_top=False,\n",
        "    weights=\"imagenet\",\n",
        "    input_shape=INPUT_SHAPE\n",
        ")\n",
        "\n",
        "# Plot the model\n",
        "supernet.summary()\n",
        "tfk.utils.plot_model(supernet)"
      ],
      "execution_count": null,
      "outputs": []
    },
    {
      "cell_type": "markdown",
      "metadata": {
        "id": "ADBtRvVPcHv8"
      },
      "source": [
        "##### Rebuild the Top (i.e. Classifier)"
      ]
    },
    {
      "cell_type": "code",
      "metadata": {
        "id": "KBMwE1DrsgeX",
        "papermill": {
          "duration": 0.703364,
          "end_time": "2021-11-20T17:49:24.853942",
          "exception": false,
          "start_time": "2021-11-20T17:49:24.150578",
          "status": "completed"
        },
        "tags": [],
        "trusted": true
      },
      "source": [
        "# Use the supernet as feature extractor\n",
        "supernet.trainable = False\n",
        "\n",
        "# Rebuild the classifier\n",
        "inputs = tfk.Input(shape=INPUT_SHAPE)\n",
        "x = supernet(inputs)\n",
        "x = tfkl.GlobalAveragePooling2D()(x)\n",
        "x = tfkl.Dense(256, kernel_initializer = tfk.initializers.GlorotUniform(SEED))(x)\n",
        "x = tfkl.BatchNormalization()(x)\n",
        "x = tfkl.ReLU()(x)\n",
        "outputs = tfkl.Dense(\n",
        "    NUM_CLASSES, \n",
        "    activation='softmax',\n",
        "    kernel_initializer = tfk.initializers.GlorotUniform(SEED))(x)\n",
        "\n",
        "# Connect input and output through the Model class\n",
        "model = tfk.Model(inputs=inputs, outputs=outputs, name='model')\n",
        "\n",
        "# Compile the model\n",
        "model.compile(loss=tfk.losses.CategoricalCrossentropy(), optimizer=tfk.optimizers.Adam(learning_rate=LEARNING_RATE), metrics=['accuracy'])\n",
        "model.summary()"
      ],
      "execution_count": null,
      "outputs": []
    },
    {
      "cell_type": "markdown",
      "metadata": {
        "id": "u6f3-UHNb1E_"
      },
      "source": [
        "##### Freeze the first 162 layers of EfficientNet"
      ]
    },
    {
      "cell_type": "code",
      "metadata": {
        "id": "JpowpFiPuPsU",
        "papermill": {
          "duration": 0.158083,
          "end_time": "2021-11-20T17:49:25.058377",
          "exception": false,
          "start_time": "2021-11-20T17:49:24.900294",
          "status": "completed"
        },
        "tags": [],
        "execution": {
          "iopub.status.busy": "2021-11-25T20:20:29.471194Z",
          "iopub.execute_input": "2021-11-25T20:20:29.471896Z",
          "iopub.status.idle": "2021-11-25T20:20:29.598361Z",
          "shell.execute_reply.started": "2021-11-25T20:20:29.47186Z",
          "shell.execute_reply": "2021-11-25T20:20:29.597518Z"
        },
        "trusted": true
      },
      "source": [
        "# Set all EfficientNet layers to True\n",
        "model.get_layer('efficientnetb0').trainable = True\n",
        "for i, layer in enumerate(model.get_layer('efficientnetb0').layers):\n",
        "   print(i, layer.name, layer.trainable)"
      ],
      "execution_count": null,
      "outputs": []
    },
    {
      "cell_type": "code",
      "metadata": {
        "id": "atzRwVLZuTOM",
        "papermill": {
          "duration": 0.177856,
          "end_time": "2021-11-20T17:49:25.284389",
          "exception": false,
          "start_time": "2021-11-20T17:49:25.106533",
          "status": "completed"
        },
        "tags": [],
        "execution": {
          "iopub.status.busy": "2021-11-25T20:20:44.953123Z",
          "iopub.execute_input": "2021-11-25T20:20:44.953825Z",
          "iopub.status.idle": "2021-11-25T20:20:45.066441Z",
          "shell.execute_reply.started": "2021-11-25T20:20:44.953773Z",
          "shell.execute_reply": "2021-11-25T20:20:45.065636Z"
        },
        "trusted": true
      },
      "source": [
        "# Freeze the first 162 layers\n",
        "for i, layer in enumerate(model.get_layer('efficientnetb0').layers[:162]):\n",
        "  layer.trainable=False\n",
        "\n",
        "print()\n",
        "for i, layer in enumerate(model.get_layer('efficientnetb0').layers):\n",
        "   print(i, layer.name, layer.trainable)\n",
        "model.summary()"
      ],
      "execution_count": null,
      "outputs": []
    },
    {
      "cell_type": "code",
      "metadata": {
        "id": "XZcEhjq7uZxT",
        "papermill": {
          "duration": 0.069299,
          "end_time": "2021-11-20T17:49:25.402275",
          "exception": false,
          "start_time": "2021-11-20T17:49:25.332976",
          "status": "completed"
        },
        "tags": [],
        "execution": {
          "iopub.status.busy": "2021-11-25T20:20:49.497188Z",
          "iopub.execute_input": "2021-11-25T20:20:49.49747Z",
          "iopub.status.idle": "2021-11-25T20:20:49.511698Z",
          "shell.execute_reply.started": "2021-11-25T20:20:49.497439Z",
          "shell.execute_reply": "2021-11-25T20:20:49.510953Z"
        },
        "trusted": true
      },
      "source": [
        "# Compile the model\n",
        "model.compile(loss=tfk.losses.CategoricalCrossentropy(), optimizer=tfk.optimizers.Adam(learning_rate=LEARNING_RATE), metrics=['accuracy'])\n",
        "model.summary()"
      ],
      "execution_count": null,
      "outputs": []
    },
    {
      "cell_type": "markdown",
      "metadata": {
        "id": "DCh7z-WxPph2"
      },
      "source": [
        "### Training and Validation (Fine Tuning)"
      ]
    },
    {
      "cell_type": "code",
      "metadata": {
        "id": "QR-oE0mC6vrh",
        "papermill": {
          "duration": 17291.382447,
          "end_time": "2021-11-20T22:37:37.102727",
          "exception": false,
          "start_time": "2021-11-20T17:49:25.72028",
          "status": "completed"
        },
        "tags": [],
        "trusted": true
      },
      "source": [
        "# Create folders and callbacks\n",
        "callbacks = create_folders_and_callbacks(model_name=MODEL_NAME)\n",
        "\n",
        "# Train the model\n",
        "history = model.fit(\n",
        "    x = train_gen,\n",
        "    batch_size = BATCH_SIZE,\n",
        "    epochs = EPOCHS,\n",
        "    validation_data = valid_gen,\n",
        "    callbacks=[callbacks]\n",
        ").history"
      ],
      "execution_count": null,
      "outputs": []
    },
    {
      "cell_type": "code",
      "metadata": {
        "id": "jlZcPPmOU6u3"
      },
      "source": [
        "# Plot the training history\n",
        "plt.figure(figsize=(10,5))\n",
        "plt.plot(history['loss'], alpha=.3, color='r', linestyle='--', linewidth=3)\n",
        "plt.plot(history['val_loss'], label='EfficientNet B0', alpha=.8, color='r', linewidth=3)\n",
        "plt.legend(loc='upper right', prop={'size': 18})\n",
        "plt.title('Categorical Crossentropy', fontsize=20)\n",
        "plt.grid(alpha=.3)\n",
        "\n",
        "plt.figure(figsize=(10,5))\n",
        "plt.plot(history['accuracy'], alpha=.3, color='r', linestyle='--', linewidth=3)\n",
        "plt.plot(history['val_accuracy'], label='EfficientNet B0', alpha=.8, color='r', linewidth=3)\n",
        "plt.legend(loc='upper right', prop={'size': 18})\n",
        "plt.title('Accuracy', fontsize=20)\n",
        "plt.grid(alpha=.3)\n",
        "\n",
        "plt.show()"
      ],
      "execution_count": null,
      "outputs": []
    },
    {
      "cell_type": "markdown",
      "metadata": {
        "id": "pvWI748XPjEz"
      },
      "source": [
        "### Testing"
      ]
    },
    {
      "cell_type": "code",
      "metadata": {
        "id": "K9N03kIdPEns"
      },
      "source": [
        "test_steps_per_epoch = np.math.ceil(test_gen.samples / test_gen.batch_size)\n",
        "\n",
        "# Evaluate on test\n",
        "predictions = model.predict(test_gen, steps=test_steps_per_epoch)"
      ],
      "execution_count": null,
      "outputs": []
    },
    {
      "cell_type": "code",
      "metadata": {
        "id": "gUiTwUeaUUrZ"
      },
      "source": [
        "# Get most likely classes\n",
        "predicted_classes = np.argmax(predictions, axis=-1)"
      ],
      "execution_count": null,
      "outputs": []
    },
    {
      "cell_type": "code",
      "metadata": {
        "id": "BiaqLWn_PEns"
      },
      "source": [
        "# Get true classes\n",
        "true_classes = test_gen.classes\n",
        "class_labels = list(test_gen.class_indices.keys())"
      ],
      "execution_count": null,
      "outputs": []
    },
    {
      "cell_type": "code",
      "metadata": {
        "id": "B_LUCJEWPEnt"
      },
      "source": [
        "# Compute the confusion matrix\n",
        "cm = confusion_matrix(true_classes, predicted_classes)\n",
        "\n",
        "# Compute the classification metrics\n",
        "accuracy = accuracy_score(true_classes, predicted_classes)\n",
        "precision = precision_score(true_classes, predicted_classes, average='macro')\n",
        "recall = recall_score(true_classes, predicted_classes, average='macro')\n",
        "f1 = f1_score(true_classes, predicted_classes, average='macro')\n",
        "print('Accuracy:',accuracy.round(4))\n",
        "print('Precision:',precision.round(4))\n",
        "print('Recall:',recall.round(4))\n",
        "print('F1:',f1.round(4))\n",
        "\n",
        "# Plot the confusion matrix\n",
        "plt.figure(figsize=(10,8))\n",
        "sns.heatmap(cm.T, xticklabels=list(class_labels), yticklabels=class_labels)\n",
        "plt.xlabel('True labels')\n",
        "plt.ylabel('Predicted labels')\n",
        "plt.show()"
      ],
      "execution_count": null,
      "outputs": []
    },
    {
      "cell_type": "markdown",
      "metadata": {
        "id": "fzzl0QrJRHXv"
      },
      "source": [
        "### Save the Model"
      ]
    },
    {
      "cell_type": "code",
      "metadata": {
        "id": "HK13X-hm6zxR",
        "papermill": {
          "duration": 39.915851,
          "end_time": "2021-11-20T22:38:23.310421",
          "exception": false,
          "start_time": "2021-11-20T22:37:43.39457",
          "status": "completed"
        },
        "tags": [],
        "trusted": true
      },
      "source": [
        "# Save best epoch model\n",
        "model.save(\"models/cnn_best\")"
      ],
      "execution_count": null,
      "outputs": []
    }
  ]
}